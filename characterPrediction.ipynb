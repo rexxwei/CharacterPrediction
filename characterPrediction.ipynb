{
  "cells": [
    {
      "cell_type": "markdown",
      "metadata": {
        "id": "01BJLcGb4ZqK"
      },
      "source": [
        "## Character Generation with RNN\n",
        "\n",
        "Use RNN to predict the next character based on the script it learn from. Using a character predictive model that will take as input a variable length sequence and predict the next character."
      ]
    },
    {
      "cell_type": "code",
      "execution_count": 1,
      "metadata": {
        "id": "fju7i1FKrK_G"
      },
      "outputs": [],
      "source": [
        "from keras.preprocessing import sequence\n",
        "import keras\n",
        "import tensorflow as tf\n",
        "import os\n",
        "import numpy as np"
      ]
    },
    {
      "cell_type": "markdown",
      "metadata": {
        "id": "NlSVGd5ACkZe"
      },
      "source": [
        "### Select example for training\n",
        "Upload a file to train the model."
      ]
    },
    {
      "cell_type": "code",
      "execution_count": 2,
      "metadata": {
        "colab": {
          "base_uri": "https://localhost:8080/",
          "height": 74,
          "resources": {
            "http://localhost:8080/nbextensions/google.colab/files.js": {
              "data": "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",
              "headers": [
                [
                  "content-type",
                  "application/javascript"
                ]
              ],
              "ok": true,
              "status": 200,
              "status_text": ""
            }
          }
        },
        "id": "CFYFwbJOC3bP",
        "outputId": "a3579de9-f886-4d52-9593-4dd661592d37"
      },
      "outputs": [
        {
          "output_type": "display_data",
          "data": {
            "text/plain": [
              "<IPython.core.display.HTML object>"
            ],
            "text/html": [
              "\n",
              "     <input type=\"file\" id=\"files-a0528877-aa36-4a99-b8cc-33bde8c46d0a\" name=\"files[]\" multiple disabled\n",
              "        style=\"border:none\" />\n",
              "     <output id=\"result-a0528877-aa36-4a99-b8cc-33bde8c46d0a\">\n",
              "      Upload widget is only available when the cell has been executed in the\n",
              "      current browser session. Please rerun this cell to enable.\n",
              "      </output>\n",
              "      <script src=\"/nbextensions/google.colab/files.js\"></script> "
            ]
          },
          "metadata": {}
        },
        {
          "output_type": "stream",
          "name": "stdout",
          "text": [
            "Saving myplay.txt to myplay.txt\n"
          ]
        }
      ],
      "source": [
        "from google.colab import files\n",
        "\n",
        "path_to_file = list(files.upload().keys())[0]"
      ]
    },
    {
      "cell_type": "markdown",
      "metadata": {
        "id": "KtJMEqQyRhAk"
      },
      "source": [
        "### Read Contents of File\n",
        "Let's look at the contents of the file."
      ]
    },
    {
      "cell_type": "code",
      "execution_count": 3,
      "metadata": {
        "colab": {
          "base_uri": "https://localhost:8080/"
        },
        "id": "-n4oovOMRnP7",
        "outputId": "c2cbe2a5-5180-4057-caf7-fca2c8444e0d"
      },
      "outputs": [
        {
          "output_type": "stream",
          "name": "stdout",
          "text": [
            "Length of text: 1115394 characters\n"
          ]
        }
      ],
      "source": [
        "# Read, then decode for py2 compat.\n",
        "text = open(path_to_file, 'rb').read().decode(encoding='utf-8')\n",
        "# length of text is the number of characters in it\n",
        "print ('Length of text: {} characters'.format(len(text)))"
      ]
    },
    {
      "cell_type": "code",
      "execution_count": 4,
      "metadata": {
        "colab": {
          "base_uri": "https://localhost:8080/"
        },
        "id": "KHUxQVl7Rt10",
        "outputId": "af991a24-8320-4e0b-dc5b-b5092ba79a83"
      },
      "outputs": [
        {
          "output_type": "stream",
          "name": "stdout",
          "text": [
            "First Citizen:\n",
            "Before we proceed any further, hear me speak.\n",
            "\n",
            "All:\n",
            "Speak, speak.\n",
            "\n",
            "First Citizen:\n",
            "You are all resolved rather to die than to famish?\n",
            "\n",
            "All:\n",
            "Resolved. resolved.\n",
            "\n",
            "First Citizen:\n",
            "First, you know Caius Marcius is chief enemy to the people.\n",
            "\n"
          ]
        }
      ],
      "source": [
        "# Take a look at the first 250 characters\n",
        "print(text[:250])"
      ]
    },
    {
      "cell_type": "markdown",
      "metadata": {
        "id": "5vt8Vpe0RvaJ"
      },
      "source": [
        "### Encoding\n",
        "The text isn't encoded yet, need to encode each unique character as a different integer.\n",
        "\n"
      ]
    },
    {
      "cell_type": "code",
      "execution_count": 5,
      "metadata": {
        "id": "C7AZNI7aRz6y"
      },
      "outputs": [],
      "source": [
        "vocab = sorted(set(text))\n",
        "# Creating a mapping from unique characters to indices\n",
        "char2idx = {u:i for i, u in enumerate(vocab)}\n",
        "idx2char = np.array(vocab)\n",
        "\n",
        "def text_to_int(text):\n",
        "  return np.array([char2idx[c] for c in text])\n",
        "\n",
        "text_as_int = text_to_int(text)"
      ]
    },
    {
      "cell_type": "code",
      "execution_count": 6,
      "metadata": {
        "colab": {
          "base_uri": "https://localhost:8080/"
        },
        "id": "_i5kvmX_SLW4",
        "outputId": "8dd73b04-7042-4db6-c590-9953dfd6b6de"
      },
      "outputs": [
        {
          "output_type": "stream",
          "name": "stdout",
          "text": [
            "Text: First Citizen\n",
            "Encoded: [18 47 56 57 58  1 15 47 58 47 64 43 52]\n"
          ]
        }
      ],
      "source": [
        "# seehow part of the text is encoded\n",
        "print(\"Text:\", text[:13])\n",
        "print(\"Encoded:\", text_to_int(text[:13]))"
      ]
    },
    {
      "cell_type": "markdown",
      "metadata": {
        "id": "mDvD5kqTWwOn"
      },
      "source": [
        "make a function can convert numeric values to text\n"
      ]
    },
    {
      "cell_type": "code",
      "execution_count": 7,
      "metadata": {
        "colab": {
          "base_uri": "https://localhost:8080/"
        },
        "id": "Af52YChSW5hX",
        "outputId": "729ed8a6-d76e-4427-fc75-fdfcc5b81122"
      },
      "outputs": [
        {
          "output_type": "stream",
          "name": "stdout",
          "text": [
            "First Citizen\n"
          ]
        }
      ],
      "source": [
        "def int_to_text(ints):\n",
        "  try:\n",
        "    ints = ints.numpy()\n",
        "  except:\n",
        "    pass\n",
        "  return ''.join(idx2char[ints])\n",
        "\n",
        "print(int_to_text(text_as_int[:13]))"
      ]
    },
    {
      "cell_type": "markdown",
      "metadata": {
        "id": "T_49cl6uS0r-"
      },
      "source": [
        "### Create Training Examples\n",
        "need to split the text into many shorter sequences so that we can pass them to the model as training examples. \n",
        "\n",
        "The training examples will use a *seq_length* sequence as input and a *seq_length* sequence as the output where that sequence is the original sequence shifted one letter to the right. For example:\n",
        "\n",
        "```input: Hell | output: ello```\n",
        "\n",
        "Thefirst step will be to create a stream of characters from training text."
      ]
    },
    {
      "cell_type": "code",
      "execution_count": 8,
      "metadata": {
        "id": "xBkXz9fjUQHW"
      },
      "outputs": [],
      "source": [
        "seq_length = 100  # length of sequence for a training example\n",
        "examples_per_epoch = len(text)//(seq_length+1)\n",
        "\n",
        "# Create training examples / targets\n",
        "char_dataset = tf.data.Dataset.from_tensor_slices(text_as_int)"
      ]
    },
    {
      "cell_type": "markdown",
      "metadata": {
        "id": "pqmxfT7gVGlr"
      },
      "source": [
        "Next use the batch method to turn this stream of characters into batches of desired length."
      ]
    },
    {
      "cell_type": "code",
      "execution_count": 9,
      "metadata": {
        "id": "Xi0xaPB_VOJl"
      },
      "outputs": [],
      "source": [
        "sequences = char_dataset.batch(seq_length+1, drop_remainder=True)"
      ]
    },
    {
      "cell_type": "markdown",
      "metadata": {
        "id": "fxo1Dig_VvV1"
      },
      "source": [
        "Then use these sequences of length 101 and split them into input and output."
      ]
    },
    {
      "cell_type": "code",
      "execution_count": 10,
      "metadata": {
        "id": "03zKVHTvV0Km"
      },
      "outputs": [],
      "source": [
        "def split_input_target(chunk):  # for example: hello\n",
        "    input_text = chunk[:-1]  # hell\n",
        "    target_text = chunk[1:]  # ello\n",
        "    return input_text, target_text  # hell, ello\n",
        "\n",
        "dataset = sequences.map(split_input_target)  # use map to apply the above function to every entry"
      ]
    },
    {
      "cell_type": "code",
      "execution_count": 11,
      "metadata": {
        "colab": {
          "base_uri": "https://localhost:8080/"
        },
        "id": "9p_y2YmgWbnc",
        "outputId": "dd9eacad-4039-4404-9b81-b6e97e5afc45"
      },
      "outputs": [
        {
          "output_type": "stream",
          "name": "stdout",
          "text": [
            "\n",
            "\n",
            "EXAMPLE\n",
            "\n",
            "INPUT\n",
            "First Citizen:\n",
            "Before we proceed any further, hear me speak.\n",
            "\n",
            "All:\n",
            "Speak, speak.\n",
            "\n",
            "First Citizen:\n",
            "You\n",
            "\n",
            "OUTPUT\n",
            "irst Citizen:\n",
            "Before we proceed any further, hear me speak.\n",
            "\n",
            "All:\n",
            "Speak, speak.\n",
            "\n",
            "First Citizen:\n",
            "You \n",
            "\n",
            "\n",
            "EXAMPLE\n",
            "\n",
            "INPUT\n",
            "are all resolved rather to die than to famish?\n",
            "\n",
            "All:\n",
            "Resolved. resolved.\n",
            "\n",
            "First Citizen:\n",
            "First, you \n",
            "\n",
            "OUTPUT\n",
            "re all resolved rather to die than to famish?\n",
            "\n",
            "All:\n",
            "Resolved. resolved.\n",
            "\n",
            "First Citizen:\n",
            "First, you k\n"
          ]
        }
      ],
      "source": [
        "for x, y in dataset.take(2):\n",
        "  print(\"\\n\\nEXAMPLE\\n\")\n",
        "  print(\"INPUT\")\n",
        "  print(int_to_text(x))\n",
        "  print(\"\\nOUTPUT\")\n",
        "  print(int_to_text(y))"
      ]
    },
    {
      "cell_type": "markdown",
      "metadata": {
        "id": "v6OxuFKVXpwK"
      },
      "source": [
        "Finally we need to make training batches."
      ]
    },
    {
      "cell_type": "code",
      "execution_count": 12,
      "metadata": {
        "id": "cRsKcjhXXuoD"
      },
      "outputs": [],
      "source": [
        "BATCH_SIZE = 64\n",
        "VOCAB_SIZE = len(vocab)  # vocab is number of unique characters\n",
        "EMBEDDING_DIM = 256\n",
        "RNN_UNITS = 1024\n",
        "\n",
        "# Buffer size to shuffle the dataset\n",
        "# (TF data is designed to work with possibly infinite sequences,\n",
        "# so it doesn't attempt to shuffle the entire sequence in memory. \n",
        "# Instead, it maintains a buffer in which it shuffles elements).\n",
        "BUFFER_SIZE = 10000\n",
        "\n",
        "data = dataset.shuffle(BUFFER_SIZE).batch(BATCH_SIZE, drop_remainder=True)"
      ]
    },
    {
      "cell_type": "markdown",
      "metadata": {
        "id": "E6YRmZLtX0d0"
      },
      "source": [
        "###Building Model\n",
        "Use an embedding layer a LSTM and one dense layer that contains a node for each unique character in training data. The dense layer will give a probability distribution over all nodes."
      ]
    },
    {
      "cell_type": "code",
      "execution_count": 13,
      "metadata": {
        "colab": {
          "base_uri": "https://localhost:8080/"
        },
        "id": "5v_P2dEic4qt",
        "outputId": "b5256097-5ef8-4b14-8c5c-f0deca1d7d73"
      },
      "outputs": [
        {
          "output_type": "stream",
          "name": "stdout",
          "text": [
            "Model: \"sequential\"\n",
            "_________________________________________________________________\n",
            " Layer (type)                Output Shape              Param #   \n",
            "=================================================================\n",
            " embedding (Embedding)       (64, None, 256)           16640     \n",
            "                                                                 \n",
            " lstm (LSTM)                 (64, None, 1024)          5246976   \n",
            "                                                                 \n",
            " dense (Dense)               (64, None, 65)            66625     \n",
            "                                                                 \n",
            "=================================================================\n",
            "Total params: 5,330,241\n",
            "Trainable params: 5,330,241\n",
            "Non-trainable params: 0\n",
            "_________________________________________________________________\n"
          ]
        }
      ],
      "source": [
        "def build_model(vocab_size, embedding_dim, rnn_units, batch_size):\n",
        "  model = tf.keras.Sequential([\n",
        "    tf.keras.layers.Embedding(vocab_size, embedding_dim,\n",
        "                              batch_input_shape=[batch_size, None]),\n",
        "    tf.keras.layers.LSTM(rnn_units,\n",
        "                        return_sequences=True,\n",
        "                        stateful=True,\n",
        "                        recurrent_initializer='glorot_uniform'),\n",
        "    tf.keras.layers.Dense(vocab_size)\n",
        "  ])\n",
        "  return model\n",
        "\n",
        "model = build_model(VOCAB_SIZE,EMBEDDING_DIM, RNN_UNITS, BATCH_SIZE)\n",
        "model.summary()"
      ]
    },
    {
      "cell_type": "markdown",
      "metadata": {
        "id": "8gfnHBUOvPqE"
      },
      "source": [
        "### Loss Function\n",
        "Create loss function for the problem. The model will output a (64, sequence_length, 65) shaped tensor that represents the probability distribution of each character at each timestep for every sequence in the batch."
      ]
    },
    {
      "cell_type": "markdown",
      "metadata": {
        "id": "g_ERM4F15v_S"
      },
      "source": [
        "Before that, have a look at a sample input and the output from untrained model. This is to understand what the model is giving.\n",
        "\n"
      ]
    },
    {
      "cell_type": "code",
      "execution_count": 14,
      "metadata": {
        "colab": {
          "base_uri": "https://localhost:8080/"
        },
        "id": "KdvEqlwc6_q0",
        "outputId": "954952f5-bfaa-41eb-8db9-d5273e580734"
      },
      "outputs": [
        {
          "output_type": "stream",
          "name": "stdout",
          "text": [
            "(64, 100, 65) # (batch_size, sequence_length, vocab_size)\n"
          ]
        }
      ],
      "source": [
        "for input_example_batch, target_example_batch in data.take(1):\n",
        "  example_batch_predictions = model(input_example_batch)  # ask our model for a prediction on our first batch of training data (64 entries)\n",
        "  print(example_batch_predictions.shape, \"# (batch_size, sequence_length, vocab_size)\")  # print out the output shape"
      ]
    },
    {
      "cell_type": "code",
      "execution_count": 15,
      "metadata": {
        "colab": {
          "base_uri": "https://localhost:8080/"
        },
        "id": "RQS5KXwi7_NX",
        "outputId": "f67106ec-5707-4a54-bd71-8f0ccdbb1baf"
      },
      "outputs": [
        {
          "output_type": "stream",
          "name": "stdout",
          "text": [
            "64\n",
            "tf.Tensor(\n",
            "[[[ 4.58100345e-04 -1.02854683e-03 -5.83313173e-04 ... -3.47035890e-03\n",
            "    4.04777937e-03  2.86678108e-03]\n",
            "  [ 2.70669442e-03 -5.62708313e-03 -3.25422548e-03 ... -1.58827170e-03\n",
            "    6.70511555e-03  4.17502923e-03]\n",
            "  [ 4.78090486e-04 -1.14017650e-02  7.34310597e-04 ... -3.99519503e-03\n",
            "    5.11288643e-03  3.93899390e-03]\n",
            "  ...\n",
            "  [-3.97634087e-03  2.30691349e-03  8.52939580e-03 ... -2.91690696e-03\n",
            "   -4.73884633e-04  3.09741264e-03]\n",
            "  [-2.45897751e-03  1.89101405e-03  5.48218284e-03 ... -6.95572933e-03\n",
            "    1.82843523e-03  6.65706117e-03]\n",
            "  [-2.56600813e-03 -2.96165957e-03  7.47612584e-03 ... -4.09485400e-03\n",
            "    9.11735743e-03  4.34376486e-03]]\n",
            "\n",
            " [[ 2.55026133e-03 -4.60104551e-03 -2.96687777e-03 ...  8.22856731e-04\n",
            "    3.54148704e-03  1.51580526e-03]\n",
            "  [ 5.91808930e-06 -3.29818809e-03 -1.91698794e-03 ... -3.01954034e-03\n",
            "    4.86237230e-04 -2.80385860e-03]\n",
            "  [-4.36783675e-03  2.29032361e-03 -3.68375797e-03 ... -1.13501796e-04\n",
            "    3.44175100e-03  3.66489450e-03]\n",
            "  ...\n",
            "  [-4.59712651e-03 -4.54359781e-03 -2.52949831e-04 ... -9.81539115e-03\n",
            "    5.51339798e-03 -3.40556609e-03]\n",
            "  [-2.74969544e-03  3.44051002e-03 -4.15540114e-03 ... -5.92306210e-03\n",
            "    7.39720277e-03 -2.46555777e-03]\n",
            "  [-1.83621235e-03  8.84381495e-03 -6.89629558e-03 ... -3.99836013e-03\n",
            "    9.17729083e-03 -1.72657170e-03]]\n",
            "\n",
            " [[-6.18558470e-03  4.89246985e-03 -3.77910328e-03 ... -2.73516332e-03\n",
            "   -9.94228758e-03  1.14608509e-03]\n",
            "  [-3.99021292e-03  3.63222323e-03 -3.42619373e-03 ... -5.81642985e-03\n",
            "   -2.91298167e-03  3.90922092e-03]\n",
            "  [-3.99460550e-03 -3.63293965e-03  6.03163964e-04 ... -6.19288161e-03\n",
            "   -1.14268821e-03  4.27364931e-03]\n",
            "  ...\n",
            "  [ 2.07951292e-03  7.71787250e-04  2.40317546e-03 ...  6.26069307e-03\n",
            "    6.75358903e-03  5.34928450e-03]\n",
            "  [ 2.44071474e-03  5.89485466e-03 -1.88811263e-03 ...  5.61816944e-03\n",
            "    9.53243114e-03  4.50080913e-03]\n",
            "  [ 4.00261284e-04  2.36691209e-03  1.18976086e-03 ...  6.05018437e-03\n",
            "    1.18916808e-02  5.04863728e-03]]\n",
            "\n",
            " ...\n",
            "\n",
            " [[ 4.58100345e-04 -1.02854683e-03 -5.83313173e-04 ... -3.47035890e-03\n",
            "    4.04777937e-03  2.86678108e-03]\n",
            "  [-6.46851840e-04  1.03940710e-03  2.37316312e-03 ...  3.10811144e-03\n",
            "    6.34279475e-03  1.48367602e-04]\n",
            "  [ 3.44412518e-04  6.62443787e-03 -1.36074924e-03 ...  4.06933110e-03\n",
            "    9.69592948e-03  1.83900096e-03]\n",
            "  ...\n",
            "  [-7.72773346e-04  4.64397483e-03  1.81678380e-03 ... -8.88747815e-03\n",
            "    7.93506159e-04  1.58481975e-03]\n",
            "  [-3.63926822e-03  6.43491652e-03  2.93369778e-03 ... -1.79870951e-03\n",
            "   -2.68519670e-03  3.16922134e-03]\n",
            "  [ 2.53713783e-03  9.49982367e-03 -3.91277485e-03 ... -5.20993117e-03\n",
            "    1.94759620e-03  7.60200620e-03]]\n",
            "\n",
            " [[-9.06071160e-04 -6.69509592e-03  3.08105513e-03 ... -1.98685843e-03\n",
            "    5.71959245e-04  7.20309792e-04]\n",
            "  [-1.27491471e-03 -2.65292102e-03 -2.46855826e-03 ... -3.61361401e-03\n",
            "    3.17897694e-03 -5.81862871e-03]\n",
            "  [-1.13131525e-03 -2.70213746e-03 -2.56911572e-03 ... -5.73890703e-03\n",
            "    5.67756686e-03 -2.32986035e-03]\n",
            "  ...\n",
            "  [-3.58866854e-03  4.51138383e-03 -1.49751396e-03 ... -4.88382205e-03\n",
            "    4.85904235e-03  5.93686663e-03]\n",
            "  [-4.52764286e-03 -4.26652376e-03  2.46337964e-03 ... -6.96379319e-03\n",
            "    4.32152487e-03  4.37294180e-03]\n",
            "  [-4.69366740e-03 -1.32071273e-03  4.96197399e-03 ...  2.17812310e-04\n",
            "    5.01774717e-03 -4.73079155e-04]]\n",
            "\n",
            " [[-9.06071160e-04 -6.69509592e-03  3.08105513e-03 ... -1.98685843e-03\n",
            "    5.71959245e-04  7.20309792e-04]\n",
            "  [ 2.05976632e-03 -4.84513538e-03 -2.60836002e-03 ...  2.13130889e-03\n",
            "    4.89407685e-05  2.70796171e-03]\n",
            "  [ 4.83448105e-03 -2.67842575e-03 -8.03748611e-03 ...  4.72300965e-03\n",
            "    1.37362862e-04  4.50316304e-03]\n",
            "  ...\n",
            "  [ 1.58199761e-03  3.27997166e-03  9.14148986e-03 ... -2.08197534e-03\n",
            "   -1.33283436e-03  6.36560284e-03]\n",
            "  [-5.06157055e-04  1.80095411e-03  8.04365706e-03 ... -3.88919050e-03\n",
            "   -1.75221311e-03  1.30729098e-03]\n",
            "  [ 2.72338744e-04  5.30328602e-03  1.89211266e-03 ... -2.35414202e-03\n",
            "    4.49138181e-03  2.65265140e-03]]], shape=(64, 100, 65), dtype=float32)\n"
          ]
        }
      ],
      "source": [
        "# the predicition is an array of 64 arrays, one for each entry in the batch\n",
        "print(len(example_batch_predictions))\n",
        "print(example_batch_predictions)"
      ]
    },
    {
      "cell_type": "code",
      "execution_count": 16,
      "metadata": {
        "colab": {
          "base_uri": "https://localhost:8080/"
        },
        "id": "sA1Zhop28V9n",
        "outputId": "ed6d472c-de6d-482a-fb86-659abb566d7d"
      },
      "outputs": [
        {
          "output_type": "stream",
          "name": "stdout",
          "text": [
            "100\n",
            "tf.Tensor(\n",
            "[[ 0.0004581  -0.00102855 -0.00058331 ... -0.00347036  0.00404778\n",
            "   0.00286678]\n",
            " [ 0.00270669 -0.00562708 -0.00325423 ... -0.00158827  0.00670512\n",
            "   0.00417503]\n",
            " [ 0.00047809 -0.01140177  0.00073431 ... -0.0039952   0.00511289\n",
            "   0.00393899]\n",
            " ...\n",
            " [-0.00397634  0.00230691  0.0085294  ... -0.00291691 -0.00047388\n",
            "   0.00309741]\n",
            " [-0.00245898  0.00189101  0.00548218 ... -0.00695573  0.00182844\n",
            "   0.00665706]\n",
            " [-0.00256601 -0.00296166  0.00747613 ... -0.00409485  0.00911736\n",
            "   0.00434376]], shape=(100, 65), dtype=float32)\n"
          ]
        }
      ],
      "source": [
        "# examine one prediction\n",
        "pred = example_batch_predictions[0]\n",
        "print(len(pred))\n",
        "print(pred)\n",
        "# notice this is a 2d array of length 100, where each interior array is the prediction for the next character at each time step"
      ]
    },
    {
      "cell_type": "code",
      "execution_count": 17,
      "metadata": {
        "colab": {
          "base_uri": "https://localhost:8080/"
        },
        "id": "UbIoe7Ei8q3q",
        "outputId": "a1d8df83-94ff-47e1-b6c4-dc4aba13109c"
      },
      "outputs": [
        {
          "output_type": "stream",
          "name": "stdout",
          "text": [
            "65\n",
            "tf.Tensor(\n",
            "[ 4.5810034e-04 -1.0285468e-03 -5.8331317e-04  1.6671882e-03\n",
            "  1.7399129e-03  2.3488322e-04  3.7117098e-03 -4.0513147e-03\n",
            " -2.2102529e-03 -3.5234692e-03  9.2147500e-04  1.2171179e-02\n",
            " -1.4905143e-03  1.5539157e-03  2.8563039e-03  6.1290162e-03\n",
            "  3.7021055e-03 -7.0861308e-05  2.1743812e-03 -3.7422623e-03\n",
            "  8.0642523e-04  7.5293076e-04  1.6361514e-04  2.5302861e-03\n",
            "  5.7541109e-03  2.9855031e-03  1.5998038e-04 -4.6333540e-03\n",
            "  2.5480273e-03 -5.1612146e-03  2.1964749e-03  7.9888115e-03\n",
            "  1.0311938e-03  5.6060781e-03 -4.6766857e-03  2.9508350e-03\n",
            " -7.6783923e-03  1.1686387e-04 -2.7739250e-03  3.7489850e-03\n",
            " -9.1465918e-04 -3.7596163e-03 -2.5719744e-03  1.4722748e-03\n",
            " -1.5196645e-03  9.5738110e-04  1.3109144e-03 -1.7247294e-03\n",
            " -2.6796106e-03 -1.7208604e-03 -7.8862747e-03  2.6688848e-03\n",
            "  3.2249801e-03 -3.0408942e-04  2.3463145e-03 -2.7613190e-04\n",
            "  1.2559878e-03 -5.0163823e-03 -6.7465389e-03  6.9095497e-03\n",
            "  1.5874860e-03 -5.1879790e-03 -3.4703589e-03  4.0477794e-03\n",
            "  2.8667811e-03], shape=(65,), dtype=float32)\n"
          ]
        }
      ],
      "source": [
        "# look at a prediction at the first timestep\n",
        "time_pred = pred[0]\n",
        "print(len(time_pred))\n",
        "print(time_pred)\n",
        "\n",
        "# its 65 values representing the probabillity of each character occuring next"
      ]
    },
    {
      "cell_type": "code",
      "execution_count": 18,
      "metadata": {
        "colab": {
          "base_uri": "https://localhost:8080/",
          "height": 36
        },
        "id": "qlEYM1H995gR",
        "outputId": "0892f51b-5d4f-403f-ff52-21d40950e935"
      },
      "outputs": [
        {
          "output_type": "execute_result",
          "data": {
            "text/plain": [
              "\":LhlPmU\\nttF?hY,OnySI3$.,!z-$m ATrXIvQFidnuX\\nyjuqC;geGQLoNG.x'Gkun:X3DA,zzeulYVyGBIJXpD;,UOvkPxV$u& J\""
            ],
            "application/vnd.google.colaboratory.intrinsic+json": {
              "type": "string"
            }
          },
          "metadata": {},
          "execution_count": 18
        }
      ],
      "source": [
        "# to determine the predicted character, need to sample the output distribution (pick a value based on probabillity)\n",
        "sampled_indices = tf.random.categorical(pred, num_samples=1)\n",
        "\n",
        "# reshape that array and convert all the integers to numbers to see the actual characters\n",
        "sampled_indices = np.reshape(sampled_indices, (1, -1))[0]\n",
        "predicted_chars = int_to_text(sampled_indices)\n",
        "\n",
        "predicted_chars  # and this is what the model predicted for training sequence 1"
      ]
    },
    {
      "cell_type": "markdown",
      "metadata": {
        "id": "qcCBfPjN9Cnp"
      },
      "source": [
        "now to create a loss function that can compare that output to the expected output and give numeric value representing how close the two were. "
      ]
    },
    {
      "cell_type": "code",
      "execution_count": 19,
      "metadata": {
        "id": "ZOw23fWq9D9O"
      },
      "outputs": [],
      "source": [
        "def loss(labels, logits):\n",
        "  return tf.keras.losses.sparse_categorical_crossentropy(labels, logits, from_logits=True)"
      ]
    },
    {
      "cell_type": "markdown",
      "metadata": {
        "id": "kcg75GwXgW81"
      },
      "source": [
        "### Compile Model"
      ]
    },
    {
      "cell_type": "code",
      "execution_count": 20,
      "metadata": {
        "id": "9g6o7zA_hAiS"
      },
      "outputs": [],
      "source": [
        "model.compile(optimizer='adam', loss=loss)"
      ]
    },
    {
      "cell_type": "markdown",
      "metadata": {
        "id": "YgDKr4yvjLPI"
      },
      "source": [
        "### Creating Checkpoints\n",
        "Setup and configure model to save checkpoinst. This will allow to load model from a checkpoint and continue training it."
      ]
    },
    {
      "cell_type": "code",
      "execution_count": 21,
      "metadata": {
        "id": "v7aMushYjSpy"
      },
      "outputs": [],
      "source": [
        "# Directory to save the checkpoints\n",
        "checkpoint_dir = './training_checkpoints'\n",
        "# Name of the checkpoint files\n",
        "checkpoint_prefix = os.path.join(checkpoint_dir, \"ckpt_{epoch}\")\n",
        "\n",
        "checkpoint_callback = tf.keras.callbacks.ModelCheckpoint(\n",
        "    filepath = checkpoint_prefix,\n",
        "    save_weights_only = True)"
      ]
    },
    {
      "cell_type": "markdown",
      "metadata": {
        "id": "0p7acPvGja5c"
      },
      "source": [
        "### Training Model"
      ]
    },
    {
      "cell_type": "code",
      "execution_count": 22,
      "metadata": {
        "colab": {
          "base_uri": "https://localhost:8080/"
        },
        "id": "R4PAgrwMjZ4_",
        "outputId": "e0c36d01-a3c9-4e88-93d5-a8220ea264bd"
      },
      "outputs": [
        {
          "output_type": "stream",
          "name": "stdout",
          "text": [
            "Epoch 1/50\n",
            "172/172 [==============================] - 14s 63ms/step - loss: 2.5319\n",
            "Epoch 2/50\n",
            "172/172 [==============================] - 12s 65ms/step - loss: 1.8491\n",
            "Epoch 3/50\n",
            "172/172 [==============================] - 12s 65ms/step - loss: 1.6111\n",
            "Epoch 4/50\n",
            "172/172 [==============================] - 13s 67ms/step - loss: 1.4833\n",
            "Epoch 5/50\n",
            "172/172 [==============================] - 13s 67ms/step - loss: 1.4066\n",
            "Epoch 6/50\n",
            "172/172 [==============================] - 13s 70ms/step - loss: 1.3518\n",
            "Epoch 7/50\n",
            "172/172 [==============================] - 13s 71ms/step - loss: 1.3071\n",
            "Epoch 8/50\n",
            "172/172 [==============================] - 14s 74ms/step - loss: 1.2665\n",
            "Epoch 9/50\n",
            "172/172 [==============================] - 13s 71ms/step - loss: 1.2304\n",
            "Epoch 10/50\n",
            "172/172 [==============================] - 13s 70ms/step - loss: 1.1923\n",
            "Epoch 11/50\n",
            "172/172 [==============================] - 14s 72ms/step - loss: 1.1562\n",
            "Epoch 12/50\n",
            "172/172 [==============================] - 14s 72ms/step - loss: 1.1171\n",
            "Epoch 13/50\n",
            "172/172 [==============================] - 14s 73ms/step - loss: 1.0770\n",
            "Epoch 14/50\n",
            "172/172 [==============================] - 13s 70ms/step - loss: 1.0349\n",
            "Epoch 15/50\n",
            "172/172 [==============================] - 13s 71ms/step - loss: 0.9947\n",
            "Epoch 16/50\n",
            "172/172 [==============================] - 13s 72ms/step - loss: 0.9517\n",
            "Epoch 17/50\n",
            "172/172 [==============================] - 13s 71ms/step - loss: 0.9098\n",
            "Epoch 18/50\n",
            "172/172 [==============================] - 14s 72ms/step - loss: 0.8677\n",
            "Epoch 19/50\n",
            "172/172 [==============================] - 14s 73ms/step - loss: 0.8301\n",
            "Epoch 20/50\n",
            "172/172 [==============================] - 13s 72ms/step - loss: 0.7919\n",
            "Epoch 21/50\n",
            "172/172 [==============================] - 13s 69ms/step - loss: 0.7566\n",
            "Epoch 22/50\n",
            "172/172 [==============================] - 13s 72ms/step - loss: 0.7245\n",
            "Epoch 23/50\n",
            "172/172 [==============================] - 14s 74ms/step - loss: 0.6939\n",
            "Epoch 24/50\n",
            "172/172 [==============================] - 13s 71ms/step - loss: 0.6682\n",
            "Epoch 25/50\n",
            "172/172 [==============================] - 13s 71ms/step - loss: 0.6434\n",
            "Epoch 26/50\n",
            "172/172 [==============================] - 14s 73ms/step - loss: 0.6194\n",
            "Epoch 27/50\n",
            "172/172 [==============================] - 14s 73ms/step - loss: 0.6001\n",
            "Epoch 28/50\n",
            "172/172 [==============================] - 13s 70ms/step - loss: 0.5818\n",
            "Epoch 29/50\n",
            "172/172 [==============================] - 13s 71ms/step - loss: 0.5665\n",
            "Epoch 30/50\n",
            "172/172 [==============================] - 13s 71ms/step - loss: 0.5518\n",
            "Epoch 31/50\n",
            "172/172 [==============================] - 14s 72ms/step - loss: 0.5364\n",
            "Epoch 32/50\n",
            "172/172 [==============================] - 14s 72ms/step - loss: 0.5255\n",
            "Epoch 33/50\n",
            "172/172 [==============================] - 13s 71ms/step - loss: 0.5141\n",
            "Epoch 34/50\n",
            "172/172 [==============================] - 14s 72ms/step - loss: 0.5040\n",
            "Epoch 35/50\n",
            "172/172 [==============================] - 13s 72ms/step - loss: 0.4954\n",
            "Epoch 36/50\n",
            "172/172 [==============================] - 13s 70ms/step - loss: 0.4900\n",
            "Epoch 37/50\n",
            "172/172 [==============================] - 13s 70ms/step - loss: 0.4792\n",
            "Epoch 38/50\n",
            "172/172 [==============================] - 14s 72ms/step - loss: 0.4747\n",
            "Epoch 39/50\n",
            "172/172 [==============================] - 14s 73ms/step - loss: 0.4694\n",
            "Epoch 40/50\n",
            "172/172 [==============================] - 13s 70ms/step - loss: 0.4638\n",
            "Epoch 41/50\n",
            "172/172 [==============================] - 13s 71ms/step - loss: 0.4564\n",
            "Epoch 42/50\n",
            "172/172 [==============================] - 13s 71ms/step - loss: 0.4525\n",
            "Epoch 43/50\n",
            "172/172 [==============================] - 14s 72ms/step - loss: 0.4494\n",
            "Epoch 44/50\n",
            "172/172 [==============================] - 14s 72ms/step - loss: 0.4461\n",
            "Epoch 45/50\n",
            "172/172 [==============================] - 13s 71ms/step - loss: 0.4421\n",
            "Epoch 46/50\n",
            "172/172 [==============================] - 13s 71ms/step - loss: 0.4406\n",
            "Epoch 47/50\n",
            "172/172 [==============================] - 14s 72ms/step - loss: 0.4369\n",
            "Epoch 48/50\n",
            "172/172 [==============================] - 14s 73ms/step - loss: 0.4338\n",
            "Epoch 49/50\n",
            "172/172 [==============================] - 13s 71ms/step - loss: 0.4298\n",
            "Epoch 50/50\n",
            "172/172 [==============================] - 13s 69ms/step - loss: 0.4291\n"
          ]
        }
      ],
      "source": [
        "history = model.fit(data, epochs=50, callbacks=[checkpoint_callback])"
      ]
    },
    {
      "cell_type": "markdown",
      "metadata": {
        "id": "9GhoHJVtmTsz"
      },
      "source": [
        "### Load the Model\n",
        "Rebuild the model from a checkpoint using a batch_size of 1 to feed one peice of text to the model and have it make a prediction."
      ]
    },
    {
      "cell_type": "code",
      "execution_count": 23,
      "metadata": {
        "id": "TPSto3uimSKp"
      },
      "outputs": [],
      "source": [
        "model = build_model(VOCAB_SIZE, EMBEDDING_DIM, RNN_UNITS, batch_size=1)"
      ]
    },
    {
      "cell_type": "markdown",
      "metadata": {
        "id": "boEJvy_vjLJQ"
      },
      "source": [
        "Once model is trained, find the **lastest checkpoint** that stores the models weights using the following line."
      ]
    },
    {
      "cell_type": "code",
      "execution_count": 24,
      "metadata": {
        "id": "PZIEZWE4mNKl"
      },
      "outputs": [],
      "source": [
        "model.load_weights(tf.train.latest_checkpoint(checkpoint_dir))\n",
        "model.build(tf.TensorShape([1, None]))"
      ]
    },
    {
      "cell_type": "markdown",
      "metadata": {
        "id": "CmPPtbaTKF8d"
      },
      "source": [
        "load **any checkpoint** by specifying the exact file to load."
      ]
    },
    {
      "cell_type": "code",
      "execution_count": 25,
      "metadata": {
        "id": "YQ_5p0ehKFDn"
      },
      "outputs": [],
      "source": [
        "# checkpoint_num = 10\n",
        "# model.load_weights(tf.train.load_checkpoint(\"./training_checkpoints/ckpt_\" + str(checkpoint_num)))\n",
        "model.build(tf.TensorShape([1, None]))"
      ]
    },
    {
      "cell_type": "markdown",
      "metadata": {
        "id": "KaZWalEeAxQN"
      },
      "source": [
        "### Generate Text\n",
        "Use function provided by tensorflow to generate some text using any starting string we'd like."
      ]
    },
    {
      "cell_type": "code",
      "execution_count": 26,
      "metadata": {
        "id": "oPSALdQXA3l3"
      },
      "outputs": [],
      "source": [
        "def generate_text(model, start_string):\n",
        "  # Evaluation step (generating text using the learned model)\n",
        "\n",
        "  # Number of characters to generate\n",
        "  num_generate = 800\n",
        "\n",
        "  # Converting start string to numbers (vectorizing)\n",
        "  input_eval = [char2idx[s] for s in start_string]\n",
        "  input_eval = tf.expand_dims(input_eval, 0)\n",
        "\n",
        "  # Empty string to store results\n",
        "  text_generated = []\n",
        "\n",
        "  # Low temperatures results in more predictable text.\n",
        "  # Higher temperatures results in more surprising text.\n",
        "  # Experiment to find the best setting.\n",
        "  temperature = 1.0\n",
        "\n",
        "  # Here batch size == 1\n",
        "  model.reset_states()\n",
        "  for i in range(num_generate):\n",
        "      predictions = model(input_eval)\n",
        "      # remove the batch dimension\n",
        "    \n",
        "      predictions = tf.squeeze(predictions, 0)\n",
        "\n",
        "      # using a categorical distribution to predict the character returned by the model\n",
        "      predictions = predictions / temperature\n",
        "      predicted_id = tf.random.categorical(predictions, num_samples=1)[-1,0].numpy()\n",
        "\n",
        "      # pass the predicted character as the next input to model\n",
        "      # along with previous hidden state\n",
        "      input_eval = tf.expand_dims([predicted_id], 0)\n",
        "\n",
        "      text_generated.append(idx2char[predicted_id])\n",
        "\n",
        "  return (start_string + ''.join(text_generated))"
      ]
    },
    {
      "cell_type": "code",
      "execution_count": 28,
      "metadata": {
        "colab": {
          "base_uri": "https://localhost:8080/"
        },
        "id": "cAJqhD9AA5mF",
        "outputId": "ee97b75c-8952-456f-c6c9-38a3859ef610"
      },
      "outputs": [
        {
          "output_type": "stream",
          "name": "stdout",
          "text": [
            "Type a starting string: Let's see how this work\n",
            "Let's see how this work about me.\n",
            "\n",
            "GREMIO:\n",
            "As will I get them: thou hast made good\n",
            "have worn themselves; but which you swear\n",
            "Than my poor brother away to-night\n",
            "Have sometime consent of such distression.\n",
            "\n",
            "RIVERS:\n",
            "By heaven, my heart am such a place-banishment.\n",
            "\n",
            "FRIAR LAURENCE:\n",
            "O, shalt thou so? Away, I am more than me?\n",
            "I am sorry that she not been dread; or Dorter?\n",
            "\n",
            "Embost:\n",
            "Gainst your daughter\n",
            "Goo's torments, the Duke of Norfolk,\n",
            "And that this spoils of hence plucks him in a queen:\n",
            "I'll not part up up again. While she lives\n",
            "My hand to see her: so we will discover all\n",
            "The game of Mantua:--baried steel'd with treble dee.\n",
            "\n",
            "ISABELLA:\n",
            "Let me hear you speak for thee.\n",
            "\n",
            "PERDITA:\n",
            "Even he, for Tarwick with him in the versal.\n",
            "\n",
            "DUKE VINCENTIO:\n",
            "It is not yet.\n",
            "\n",
            "LUCENTIO:\n",
            "I may, and will, it were worse prisoner.\n",
            "\n",
            "EDWARD:\n",
            "Nay, \n"
          ]
        }
      ],
      "source": [
        "inp = input(\"Type a starting string: \")\n",
        "print(generate_text(model, inp))"
      ]
    }
  ],
  "metadata": {
    "accelerator": "GPU",
    "colab": {
      "collapsed_sections": [],
      "name": "characterPrediction.ipynb",
      "provenance": []
    },
    "kernelspec": {
      "display_name": "Python 3",
      "language": "python",
      "name": "python3"
    },
    "language_info": {
      "codemirror_mode": {
        "name": "ipython",
        "version": 3
      },
      "file_extension": ".py",
      "mimetype": "text/x-python",
      "name": "python",
      "nbconvert_exporter": "python",
      "pygments_lexer": "ipython3",
      "version": "3.6.13"
    },
    "gpuClass": "standard"
  },
  "nbformat": 4,
  "nbformat_minor": 0
}