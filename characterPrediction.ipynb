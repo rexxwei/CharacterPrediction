{
 "cells": [
  {
   "cell_type": "markdown",
   "metadata": {
    "id": "01BJLcGb4ZqK"
   },
   "source": [
    "## RNN Character Generator\n",
    "\n",
    "Use RNN to generate a play. Let RNN leatn from an example and want it will learn how to write a version of its own. Using a character predictive model that will take as input a variable length sequence and predict the next character."
   ]
  },
  {
   "cell_type": "code",
   "execution_count": null,
   "metadata": {
    "colab": {
     "base_uri": "https://localhost:8080/"
    },
    "id": "fju7i1FKrK_G",
    "outputId": "f477abc7-268b-45e2-ab70-0ed7ae935b54"
   },
   "outputs": [
    {
     "name": "stdout",
     "output_type": "stream",
     "text": [
      "`%tensorflow_version` only switches the major version: 1.x or 2.x.\n",
      "You set: `2.x  # this line is not required unless you are in a notebook`. This will be interpreted as: `2.x`.\n",
      "\n",
      "\n",
      "TensorFlow 2.x selected.\n"
     ]
    }
   ],
   "source": [
    "%tensorflow_version 2.x  # this line is not required unless you are in a notebook\n",
    "from keras.preprocessing import sequence\n",
    "import keras\n",
    "import tensorflow as tf\n",
    "import os\n",
    "import numpy as np"
   ]
  },
  {
   "cell_type": "markdown",
   "metadata": {
    "id": "F48c-EctQ378"
   },
   "source": [
    "### Dataset\n",
    "For this example, we only need one peice of training data. In fact, we can write our own poem or play and pass that to the network for training if we'd like. However, to make things easy we'll use an extract from a shakesphere play."
   ]
  },
  {
   "cell_type": "code",
   "execution_count": null,
   "metadata": {
    "colab": {
     "base_uri": "https://localhost:8080/"
    },
    "id": "IdRcVIhtRGlF",
    "outputId": "5d025524-3c00-4839-84e4-98d62c5fee9a"
   },
   "outputs": [
    {
     "name": "stdout",
     "output_type": "stream",
     "text": [
      "Downloading data from https://storage.googleapis.com/download.tensorflow.org/data/shakespeare.txt\n",
      "1122304/1115394 [==============================] - 0s 0us/step\n",
      "1130496/1115394 [==============================] - 0s 0us/step\n"
     ]
    }
   ],
   "source": [
    "path_to_file = tf.keras.utils.get_file('shakespeare.txt', 'https://storage.googleapis.com/download.tensorflow.org/data/shakespeare.txt')"
   ]
  },
  {
   "cell_type": "markdown",
   "metadata": {
    "id": "NlSVGd5ACkZe"
   },
   "source": [
    "### Loading Your Own Data\n",
    "To load your own data, you'll need to upload a file from the dialog below. Then you'll need to follow the steps from above but load in this new file instead.\n",
    "\n"
   ]
  },
  {
   "cell_type": "code",
   "execution_count": null,
   "metadata": {
    "colab": {
     "base_uri": "https://localhost:8080/",
     "height": 204,
     "resources": {
      "http://localhost:8080/nbextensions/google.colab/files.js": {
       "data": "Ly8gQ29weXJpZ2h0IDIwMTcgR29vZ2xlIExMQwovLwovLyBMaWNlbnNlZCB1bmRlciB0aGUgQXBhY2hlIExpY2Vuc2UsIFZlcnNpb24gMi4wICh0aGUgIkxpY2Vuc2UiKTsKLy8geW91IG1heSBub3QgdXNlIHRoaXMgZmlsZSBleGNlcHQgaW4gY29tcGxpYW5jZSB3aXRoIHRoZSBMaWNlbnNlLgovLyBZb3UgbWF5IG9idGFpbiBhIGNvcHkgb2YgdGhlIExpY2Vuc2UgYXQKLy8KLy8gICAgICBodHRwOi8vd3d3LmFwYWNoZS5vcmcvbGljZW5zZXMvTElDRU5TRS0yLjAKLy8KLy8gVW5sZXNzIHJlcXVpcmVkIGJ5IGFwcGxpY2FibGUgbGF3IG9yIGFncmVlZCB0byBpbiB3cml0aW5nLCBzb2Z0d2FyZQovLyBkaXN0cmlidXRlZCB1bmRlciB0aGUgTGljZW5zZSBpcyBkaXN0cmlidXRlZCBvbiBhbiAiQVMgSVMiIEJBU0lTLAovLyBXSVRIT1VUIFdBUlJBTlRJRVMgT1IgQ09ORElUSU9OUyBPRiBBTlkgS0lORCwgZWl0aGVyIGV4cHJlc3Mgb3IgaW1wbGllZC4KLy8gU2VlIHRoZSBMaWNlbnNlIGZvciB0aGUgc3BlY2lmaWMgbGFuZ3VhZ2UgZ292ZXJuaW5nIHBlcm1pc3Npb25zIGFuZAovLyBsaW1pdGF0aW9ucyB1bmRlciB0aGUgTGljZW5zZS4KCi8qKgogKiBAZmlsZW92ZXJ2aWV3IEhlbHBlcnMgZm9yIGdvb2dsZS5jb2xhYiBQeXRob24gbW9kdWxlLgogKi8KKGZ1bmN0aW9uKHNjb3BlKSB7CmZ1bmN0aW9uIHNwYW4odGV4dCwgc3R5bGVBdHRyaWJ1dGVzID0ge30pIHsKICBjb25zdCBlbGVtZW50ID0gZG9jdW1lbnQuY3JlYXRlRWxlbWVudCgnc3BhbicpOwogIGVsZW1lbnQudGV4dENvbnRlbnQgPSB0ZXh0OwogIGZvciAoY29uc3Qga2V5IG9mIE9iamVjdC5rZXlzKHN0eWxlQXR0cmlidXRlcykpIHsKICAgIGVsZW1lbnQuc3R5bGVba2V5XSA9IHN0eWxlQXR0cmlidXRlc1trZXldOwogIH0KICByZXR1cm4gZWxlbWVudDsKfQoKLy8gTWF4IG51bWJlciBvZiBieXRlcyB3aGljaCB3aWxsIGJlIHVwbG9hZGVkIGF0IGEgdGltZS4KY29uc3QgTUFYX1BBWUxPQURfU0laRSA9IDEwMCAqIDEwMjQ7CgpmdW5jdGlvbiBfdXBsb2FkRmlsZXMoaW5wdXRJZCwgb3V0cHV0SWQpIHsKICBjb25zdCBzdGVwcyA9IHVwbG9hZEZpbGVzU3RlcChpbnB1dElkLCBvdXRwdXRJZCk7CiAgY29uc3Qgb3V0cHV0RWxlbWVudCA9IGRvY3VtZW50LmdldEVsZW1lbnRCeUlkKG91dHB1dElkKTsKICAvLyBDYWNoZSBzdGVwcyBvbiB0aGUgb3V0cHV0RWxlbWVudCB0byBtYWtlIGl0IGF2YWlsYWJsZSBmb3IgdGhlIG5leHQgY2FsbAogIC8vIHRvIHVwbG9hZEZpbGVzQ29udGludWUgZnJvbSBQeXRob24uCiAgb3V0cHV0RWxlbWVudC5zdGVwcyA9IHN0ZXBzOwoKICByZXR1cm4gX3VwbG9hZEZpbGVzQ29udGludWUob3V0cHV0SWQpOwp9CgovLyBUaGlzIGlzIHJvdWdobHkgYW4gYXN5bmMgZ2VuZXJhdG9yIChub3Qgc3VwcG9ydGVkIGluIHRoZSBicm93c2VyIHlldCksCi8vIHdoZXJlIHRoZXJlIGFyZSBtdWx0aXBsZSBhc3luY2hyb25vdXMgc3RlcHMgYW5kIHRoZSBQeXRob24gc2lkZSBpcyBnb2luZwovLyB0byBwb2xsIGZvciBjb21wbGV0aW9uIG9mIGVhY2ggc3RlcC4KLy8gVGhpcyB1c2VzIGEgUHJvbWlzZSB0byBibG9jayB0aGUgcHl0aG9uIHNpZGUgb24gY29tcGxldGlvbiBvZiBlYWNoIHN0ZXAsCi8vIHRoZW4gcGFzc2VzIHRoZSByZXN1bHQgb2YgdGhlIHByZXZpb3VzIHN0ZXAgYXMgdGhlIGlucHV0IHRvIHRoZSBuZXh0IHN0ZXAuCmZ1bmN0aW9uIF91cGxvYWRGaWxlc0NvbnRpbnVlKG91dHB1dElkKSB7CiAgY29uc3Qgb3V0cHV0RWxlbWVudCA9IGRvY3VtZW50LmdldEVsZW1lbnRCeUlkKG91dHB1dElkKTsKICBjb25zdCBzdGVwcyA9IG91dHB1dEVsZW1lbnQuc3RlcHM7CgogIGNvbnN0IG5leHQgPSBzdGVwcy5uZXh0KG91dHB1dEVsZW1lbnQubGFzdFByb21pc2VWYWx1ZSk7CiAgcmV0dXJuIFByb21pc2UucmVzb2x2ZShuZXh0LnZhbHVlLnByb21pc2UpLnRoZW4oKHZhbHVlKSA9PiB7CiAgICAvLyBDYWNoZSB0aGUgbGFzdCBwcm9taXNlIHZhbHVlIHRvIG1ha2UgaXQgYXZhaWxhYmxlIHRvIHRoZSBuZXh0CiAgICAvLyBzdGVwIG9mIHRoZSBnZW5lcmF0b3IuCiAgICBvdXRwdXRFbGVtZW50Lmxhc3RQcm9taXNlVmFsdWUgPSB2YWx1ZTsKICAgIHJldHVybiBuZXh0LnZhbHVlLnJlc3BvbnNlOwogIH0pOwp9CgovKioKICogR2VuZXJhdG9yIGZ1bmN0aW9uIHdoaWNoIGlzIGNhbGxlZCBiZXR3ZWVuIGVhY2ggYXN5bmMgc3RlcCBvZiB0aGUgdXBsb2FkCiAqIHByb2Nlc3MuCiAqIEBwYXJhbSB7c3RyaW5nfSBpbnB1dElkIEVsZW1lbnQgSUQgb2YgdGhlIGlucHV0IGZpbGUgcGlja2VyIGVsZW1lbnQuCiAqIEBwYXJhbSB7c3RyaW5nfSBvdXRwdXRJZCBFbGVtZW50IElEIG9mIHRoZSBvdXRwdXQgZGlzcGxheS4KICogQHJldHVybiB7IUl0ZXJhYmxlPCFPYmplY3Q+fSBJdGVyYWJsZSBvZiBuZXh0IHN0ZXBzLgogKi8KZnVuY3Rpb24qIHVwbG9hZEZpbGVzU3RlcChpbnB1dElkLCBvdXRwdXRJZCkgewogIGNvbnN0IGlucHV0RWxlbWVudCA9IGRvY3VtZW50LmdldEVsZW1lbnRCeUlkKGlucHV0SWQpOwogIGlucHV0RWxlbWVudC5kaXNhYmxlZCA9IGZhbHNlOwoKICBjb25zdCBvdXRwdXRFbGVtZW50ID0gZG9jdW1lbnQuZ2V0RWxlbWVudEJ5SWQob3V0cHV0SWQpOwogIG91dHB1dEVsZW1lbnQuaW5uZXJIVE1MID0gJyc7CgogIGNvbnN0IHBpY2tlZFByb21pc2UgPSBuZXcgUHJvbWlzZSgocmVzb2x2ZSkgPT4gewogICAgaW5wdXRFbGVtZW50LmFkZEV2ZW50TGlzdGVuZXIoJ2NoYW5nZScsIChlKSA9PiB7CiAgICAgIHJlc29sdmUoZS50YXJnZXQuZmlsZXMpOwogICAgfSk7CiAgfSk7CgogIGNvbnN0IGNhbmNlbCA9IGRvY3VtZW50LmNyZWF0ZUVsZW1lbnQoJ2J1dHRvbicpOwogIGlucHV0RWxlbWVudC5wYXJlbnRFbGVtZW50LmFwcGVuZENoaWxkKGNhbmNlbCk7CiAgY2FuY2VsLnRleHRDb250ZW50ID0gJ0NhbmNlbCB1cGxvYWQnOwogIGNvbnN0IGNhbmNlbFByb21pc2UgPSBuZXcgUHJvbWlzZSgocmVzb2x2ZSkgPT4gewogICAgY2FuY2VsLm9uY2xpY2sgPSAoKSA9PiB7CiAgICAgIHJlc29sdmUobnVsbCk7CiAgICB9OwogIH0pOwoKICAvLyBXYWl0IGZvciB0aGUgdXNlciB0byBwaWNrIHRoZSBmaWxlcy4KICBjb25zdCBmaWxlcyA9IHlpZWxkIHsKICAgIHByb21pc2U6IFByb21pc2UucmFjZShbcGlja2VkUHJvbWlzZSwgY2FuY2VsUHJvbWlzZV0pLAogICAgcmVzcG9uc2U6IHsKICAgICAgYWN0aW9uOiAnc3RhcnRpbmcnLAogICAgfQogIH07CgogIGNhbmNlbC5yZW1vdmUoKTsKCiAgLy8gRGlzYWJsZSB0aGUgaW5wdXQgZWxlbWVudCBzaW5jZSBmdXJ0aGVyIHBpY2tzIGFyZSBub3QgYWxsb3dlZC4KICBpbnB1dEVsZW1lbnQuZGlzYWJsZWQgPSB0cnVlOwoKICBpZiAoIWZpbGVzKSB7CiAgICByZXR1cm4gewogICAgICByZXNwb25zZTogewogICAgICAgIGFjdGlvbjogJ2NvbXBsZXRlJywKICAgICAgfQogICAgfTsKICB9CgogIGZvciAoY29uc3QgZmlsZSBvZiBmaWxlcykgewogICAgY29uc3QgbGkgPSBkb2N1bWVudC5jcmVhdGVFbGVtZW50KCdsaScpOwogICAgbGkuYXBwZW5kKHNwYW4oZmlsZS5uYW1lLCB7Zm9udFdlaWdodDogJ2JvbGQnfSkpOwogICAgbGkuYXBwZW5kKHNwYW4oCiAgICAgICAgYCgke2ZpbGUudHlwZSB8fCAnbi9hJ30pIC0gJHtmaWxlLnNpemV9IGJ5dGVzLCBgICsKICAgICAgICBgbGFzdCBtb2RpZmllZDogJHsKICAgICAgICAgICAgZmlsZS5sYXN0TW9kaWZpZWREYXRlID8gZmlsZS5sYXN0TW9kaWZpZWREYXRlLnRvTG9jYWxlRGF0ZVN0cmluZygpIDoKICAgICAgICAgICAgICAgICAgICAgICAgICAgICAgICAgICAgJ24vYSd9IC0gYCkpOwogICAgY29uc3QgcGVyY2VudCA9IHNwYW4oJzAlIGRvbmUnKTsKICAgIGxpLmFwcGVuZENoaWxkKHBlcmNlbnQpOwoKICAgIG91dHB1dEVsZW1lbnQuYXBwZW5kQ2hpbGQobGkpOwoKICAgIGNvbnN0IGZpbGVEYXRhUHJvbWlzZSA9IG5ldyBQcm9taXNlKChyZXNvbHZlKSA9PiB7CiAgICAgIGNvbnN0IHJlYWRlciA9IG5ldyBGaWxlUmVhZGVyKCk7CiAgICAgIHJlYWRlci5vbmxvYWQgPSAoZSkgPT4gewogICAgICAgIHJlc29sdmUoZS50YXJnZXQucmVzdWx0KTsKICAgICAgfTsKICAgICAgcmVhZGVyLnJlYWRBc0FycmF5QnVmZmVyKGZpbGUpOwogICAgfSk7CiAgICAvLyBXYWl0IGZvciB0aGUgZGF0YSB0byBiZSByZWFkeS4KICAgIGxldCBmaWxlRGF0YSA9IHlpZWxkIHsKICAgICAgcHJvbWlzZTogZmlsZURhdGFQcm9taXNlLAogICAgICByZXNwb25zZTogewogICAgICAgIGFjdGlvbjogJ2NvbnRpbnVlJywKICAgICAgfQogICAgfTsKCiAgICAvLyBVc2UgYSBjaHVua2VkIHNlbmRpbmcgdG8gYXZvaWQgbWVzc2FnZSBzaXplIGxpbWl0cy4gU2VlIGIvNjIxMTU2NjAuCiAgICBsZXQgcG9zaXRpb24gPSAwOwogICAgZG8gewogICAgICBjb25zdCBsZW5ndGggPSBNYXRoLm1pbihmaWxlRGF0YS5ieXRlTGVuZ3RoIC0gcG9zaXRpb24sIE1BWF9QQVlMT0FEX1NJWkUpOwogICAgICBjb25zdCBjaHVuayA9IG5ldyBVaW50OEFycmF5KGZpbGVEYXRhLCBwb3NpdGlvbiwgbGVuZ3RoKTsKICAgICAgcG9zaXRpb24gKz0gbGVuZ3RoOwoKICAgICAgY29uc3QgYmFzZTY0ID0gYnRvYShTdHJpbmcuZnJvbUNoYXJDb2RlLmFwcGx5KG51bGwsIGNodW5rKSk7CiAgICAgIHlpZWxkIHsKICAgICAgICByZXNwb25zZTogewogICAgICAgICAgYWN0aW9uOiAnYXBwZW5kJywKICAgICAgICAgIGZpbGU6IGZpbGUubmFtZSwKICAgICAgICAgIGRhdGE6IGJhc2U2NCwKICAgICAgICB9LAogICAgICB9OwoKICAgICAgbGV0IHBlcmNlbnREb25lID0gZmlsZURhdGEuYnl0ZUxlbmd0aCA9PT0gMCA/CiAgICAgICAgICAxMDAgOgogICAgICAgICAgTWF0aC5yb3VuZCgocG9zaXRpb24gLyBmaWxlRGF0YS5ieXRlTGVuZ3RoKSAqIDEwMCk7CiAgICAgIHBlcmNlbnQudGV4dENvbnRlbnQgPSBgJHtwZXJjZW50RG9uZX0lIGRvbmVgOwoKICAgIH0gd2hpbGUgKHBvc2l0aW9uIDwgZmlsZURhdGEuYnl0ZUxlbmd0aCk7CiAgfQoKICAvLyBBbGwgZG9uZS4KICB5aWVsZCB7CiAgICByZXNwb25zZTogewogICAgICBhY3Rpb246ICdjb21wbGV0ZScsCiAgICB9CiAgfTsKfQoKc2NvcGUuZ29vZ2xlID0gc2NvcGUuZ29vZ2xlIHx8IHt9OwpzY29wZS5nb29nbGUuY29sYWIgPSBzY29wZS5nb29nbGUuY29sYWIgfHwge307CnNjb3BlLmdvb2dsZS5jb2xhYi5fZmlsZXMgPSB7CiAgX3VwbG9hZEZpbGVzLAogIF91cGxvYWRGaWxlc0NvbnRpbnVlLAp9Owp9KShzZWxmKTsK",
       "headers": [
        [
         "content-type",
         "application/javascript"
        ]
       ],
       "ok": true,
       "status": 200,
       "status_text": ""
      }
     }
    },
    "id": "CFYFwbJOC3bP",
    "outputId": "e02ab8e5-7252-4cc4-ebf1-19411f47b9b6"
   },
   "outputs": [
    {
     "data": {
      "text/html": [
       "\n",
       "     <input type=\"file\" id=\"files-6757a2f4-4a54-4247-8a81-19deba6d317c\" name=\"files[]\" multiple disabled\n",
       "        style=\"border:none\" />\n",
       "     <output id=\"result-6757a2f4-4a54-4247-8a81-19deba6d317c\">\n",
       "      Upload widget is only available when the cell has been executed in the\n",
       "      current browser session. Please rerun this cell to enable.\n",
       "      </output>\n",
       "      <script src=\"/nbextensions/google.colab/files.js\"></script> "
      ],
      "text/plain": [
       "<IPython.core.display.HTML object>"
      ]
     },
     "metadata": {},
     "output_type": "display_data"
    },
    {
     "ename": "IndexError",
     "evalue": "ignored",
     "output_type": "error",
     "traceback": [
      "\u001b[0;31m---------------------------------------------------------------------------\u001b[0m",
      "\u001b[0;31mIndexError\u001b[0m                                Traceback (most recent call last)",
      "\u001b[0;32m<ipython-input-4-f0cf22c78c77>\u001b[0m in \u001b[0;36m<module>\u001b[0;34m()\u001b[0m\n\u001b[1;32m      1\u001b[0m \u001b[0;32mfrom\u001b[0m \u001b[0mgoogle\u001b[0m\u001b[0;34m.\u001b[0m\u001b[0mcolab\u001b[0m \u001b[0;32mimport\u001b[0m \u001b[0mfiles\u001b[0m\u001b[0;34m\u001b[0m\u001b[0;34m\u001b[0m\u001b[0m\n\u001b[0;32m----> 2\u001b[0;31m \u001b[0mpath_to_file\u001b[0m \u001b[0;34m=\u001b[0m \u001b[0mlist\u001b[0m\u001b[0;34m(\u001b[0m\u001b[0mfiles\u001b[0m\u001b[0;34m.\u001b[0m\u001b[0mupload\u001b[0m\u001b[0;34m(\u001b[0m\u001b[0;34m)\u001b[0m\u001b[0;34m.\u001b[0m\u001b[0mkeys\u001b[0m\u001b[0;34m(\u001b[0m\u001b[0;34m)\u001b[0m\u001b[0;34m)\u001b[0m\u001b[0;34m[\u001b[0m\u001b[0;36m0\u001b[0m\u001b[0;34m]\u001b[0m\u001b[0;34m\u001b[0m\u001b[0;34m\u001b[0m\u001b[0m\n\u001b[0m",
      "\u001b[0;31mIndexError\u001b[0m: list index out of range"
     ]
    }
   ],
   "source": [
    "from google.colab import files\n",
    "path_to_file = list(files.upload().keys())[0]"
   ]
  },
  {
   "cell_type": "markdown",
   "metadata": {
    "id": "KtJMEqQyRhAk"
   },
   "source": [
    "### Read Contents of File\n",
    "Let's look at the contents of the file."
   ]
  },
  {
   "cell_type": "code",
   "execution_count": null,
   "metadata": {
    "colab": {
     "base_uri": "https://localhost:8080/"
    },
    "id": "-n4oovOMRnP7",
    "outputId": "5a540651-293d-4c11-f7b1-b178eebda1d8"
   },
   "outputs": [
    {
     "name": "stdout",
     "output_type": "stream",
     "text": [
      "Length of text: 1115394 characters\n"
     ]
    }
   ],
   "source": [
    "# Read, then decode for py2 compat.\n",
    "text = open(path_to_file, 'rb').read().decode(encoding='utf-8')\n",
    "# length of text is the number of characters in it\n",
    "print ('Length of text: {} characters'.format(len(text)))"
   ]
  },
  {
   "cell_type": "code",
   "execution_count": null,
   "metadata": {
    "colab": {
     "base_uri": "https://localhost:8080/"
    },
    "id": "KHUxQVl7Rt10",
    "outputId": "da74bd6b-e212-4480-9231-f42d9c137b93"
   },
   "outputs": [
    {
     "name": "stdout",
     "output_type": "stream",
     "text": [
      "First Citizen:\n",
      "Before we proceed any further, hear me speak.\n",
      "\n",
      "All:\n",
      "Speak, speak.\n",
      "\n",
      "First Citizen:\n",
      "You are all resolved rather to die than to famish?\n",
      "\n",
      "All:\n",
      "Resolved. resolved.\n",
      "\n",
      "First Citizen:\n",
      "First, you know Caius Marcius is chief enemy to the people.\n",
      "\n"
     ]
    }
   ],
   "source": [
    "# Take a look at the first 250 characters in text\n",
    "print(text[:250])"
   ]
  },
  {
   "cell_type": "markdown",
   "metadata": {
    "id": "5vt8Vpe0RvaJ"
   },
   "source": [
    "### Encoding\n",
    "Since this text isn't encoded yet we'll need to do that ourselves. We are going to encode each unique character as a different integer.\n",
    "\n"
   ]
  },
  {
   "cell_type": "code",
   "execution_count": null,
   "metadata": {
    "id": "C7AZNI7aRz6y"
   },
   "outputs": [],
   "source": [
    "vocab = sorted(set(text))\n",
    "# Creating a mapping from unique characters to indices\n",
    "char2idx = {u:i for i, u in enumerate(vocab)}\n",
    "idx2char = np.array(vocab)\n",
    "\n",
    "def text_to_int(text):\n",
    "  return np.array([char2idx[c] for c in text])\n",
    "\n",
    "text_as_int = text_to_int(text)"
   ]
  },
  {
   "cell_type": "code",
   "execution_count": null,
   "metadata": {
    "colab": {
     "base_uri": "https://localhost:8080/"
    },
    "id": "_i5kvmX_SLW4",
    "outputId": "5e0e1b2f-8139-443c-f2c8-b3f308b4c882"
   },
   "outputs": [
    {
     "name": "stdout",
     "output_type": "stream",
     "text": [
      "Text: First Citizen\n",
      "Encoded: [18 47 56 57 58  1 15 47 58 47 64 43 52]\n"
     ]
    }
   ],
   "source": [
    "# lets look at how part of our text is encoded\n",
    "print(\"Text:\", text[:13])\n",
    "print(\"Encoded:\", text_to_int(text[:13]))"
   ]
  },
  {
   "cell_type": "markdown",
   "metadata": {
    "id": "mDvD5kqTWwOn"
   },
   "source": [
    "And here we will make a function that can convert our numeric values to text.\n"
   ]
  },
  {
   "cell_type": "code",
   "execution_count": null,
   "metadata": {
    "colab": {
     "base_uri": "https://localhost:8080/"
    },
    "id": "Af52YChSW5hX",
    "outputId": "f4fd6c08-282d-4f93-e3ed-160a72568cae"
   },
   "outputs": [
    {
     "name": "stdout",
     "output_type": "stream",
     "text": [
      "First Citizen\n"
     ]
    }
   ],
   "source": [
    "def int_to_text(ints):\n",
    "  try:\n",
    "    ints = ints.numpy()\n",
    "  except:\n",
    "    pass\n",
    "  return ''.join(idx2char[ints])\n",
    "\n",
    "print(int_to_text(text_as_int[:13]))"
   ]
  },
  {
   "cell_type": "markdown",
   "metadata": {
    "id": "T_49cl6uS0r-"
   },
   "source": [
    "###Creating Training Examples\n",
    "Remember our task is to feed the model a sequence and have it return to us the next character. This means we need to split our text data from above into many shorter sequences that we can pass to the model as training examples. \n",
    "\n",
    "The training examples we will prepapre will use a *seq_length* sequence as input and a *seq_length* sequence as the output where that sequence is the original sequence shifted one letter to the right. For example:\n",
    "\n",
    "```input: Hell | output: ello```\n",
    "\n",
    "Our first step will be to create a stream of characters from our text data."
   ]
  },
  {
   "cell_type": "code",
   "execution_count": null,
   "metadata": {
    "id": "xBkXz9fjUQHW"
   },
   "outputs": [],
   "source": [
    "seq_length = 100  # length of sequence for a training example\n",
    "examples_per_epoch = len(text)//(seq_length+1)\n",
    "\n",
    "# Create training examples / targets\n",
    "char_dataset = tf.data.Dataset.from_tensor_slices(text_as_int)"
   ]
  },
  {
   "cell_type": "markdown",
   "metadata": {
    "id": "pqmxfT7gVGlr"
   },
   "source": [
    "Next we can use the batch method to turn this stream of characters into batches of desired length."
   ]
  },
  {
   "cell_type": "code",
   "execution_count": null,
   "metadata": {
    "id": "Xi0xaPB_VOJl"
   },
   "outputs": [],
   "source": [
    "sequences = char_dataset.batch(seq_length+1, drop_remainder=True)"
   ]
  },
  {
   "cell_type": "markdown",
   "metadata": {
    "id": "fxo1Dig_VvV1"
   },
   "source": [
    "Now we need to use these sequences of length 101 and split them into input and output."
   ]
  },
  {
   "cell_type": "code",
   "execution_count": null,
   "metadata": {
    "id": "03zKVHTvV0Km"
   },
   "outputs": [],
   "source": [
    "def split_input_target(chunk):  # for the example: hello\n",
    "    input_text = chunk[:-1]  # hell\n",
    "    target_text = chunk[1:]  # ello\n",
    "    return input_text, target_text  # hell, ello\n",
    "\n",
    "dataset = sequences.map(split_input_target)  # we use map to apply the above function to every entry"
   ]
  },
  {
   "cell_type": "code",
   "execution_count": null,
   "metadata": {
    "colab": {
     "base_uri": "https://localhost:8080/"
    },
    "id": "9p_y2YmgWbnc",
    "outputId": "d534025a-1142-41fb-a028-3ba53638587e"
   },
   "outputs": [
    {
     "name": "stdout",
     "output_type": "stream",
     "text": [
      "\n",
      "\n",
      "EXAMPLE\n",
      "\n",
      "INPUT\n",
      "First Citizen:\n",
      "Before we proceed any further, hear me speak.\n",
      "\n",
      "All:\n",
      "Speak, speak.\n",
      "\n",
      "First Citizen:\n",
      "You\n",
      "\n",
      "OUTPUT\n",
      "irst Citizen:\n",
      "Before we proceed any further, hear me speak.\n",
      "\n",
      "All:\n",
      "Speak, speak.\n",
      "\n",
      "First Citizen:\n",
      "You \n",
      "\n",
      "\n",
      "EXAMPLE\n",
      "\n",
      "INPUT\n",
      "are all resolved rather to die than to famish?\n",
      "\n",
      "All:\n",
      "Resolved. resolved.\n",
      "\n",
      "First Citizen:\n",
      "First, you \n",
      "\n",
      "OUTPUT\n",
      "re all resolved rather to die than to famish?\n",
      "\n",
      "All:\n",
      "Resolved. resolved.\n",
      "\n",
      "First Citizen:\n",
      "First, you k\n"
     ]
    }
   ],
   "source": [
    "for x, y in dataset.take(2):\n",
    "  print(\"\\n\\nEXAMPLE\\n\")\n",
    "  print(\"INPUT\")\n",
    "  print(int_to_text(x))\n",
    "  print(\"\\nOUTPUT\")\n",
    "  print(int_to_text(y))"
   ]
  },
  {
   "cell_type": "markdown",
   "metadata": {
    "id": "v6OxuFKVXpwK"
   },
   "source": [
    "Finally we need to make training batches."
   ]
  },
  {
   "cell_type": "code",
   "execution_count": null,
   "metadata": {
    "id": "cRsKcjhXXuoD"
   },
   "outputs": [],
   "source": [
    "BATCH_SIZE = 64\n",
    "VOCAB_SIZE = len(vocab)  # vocab is number of unique characters\n",
    "EMBEDDING_DIM = 256\n",
    "RNN_UNITS = 1024\n",
    "\n",
    "# Buffer size to shuffle the dataset\n",
    "# (TF data is designed to work with possibly infinite sequences,\n",
    "# so it doesn't attempt to shuffle the entire sequence in memory. Instead,\n",
    "# it maintains a buffer in which it shuffles elements).\n",
    "BUFFER_SIZE = 10000\n",
    "\n",
    "data = dataset.shuffle(BUFFER_SIZE).batch(BATCH_SIZE, drop_remainder=True)"
   ]
  },
  {
   "cell_type": "markdown",
   "metadata": {
    "id": "E6YRmZLtX0d0"
   },
   "source": [
    "###Building the Model\n",
    "Now it is time to build the model. We will use an embedding layer a LSTM and one dense layer that contains a node for each unique character in our training data. The dense layer will give us a probability distribution over all nodes."
   ]
  },
  {
   "cell_type": "code",
   "execution_count": null,
   "metadata": {
    "colab": {
     "base_uri": "https://localhost:8080/"
    },
    "id": "5v_P2dEic4qt",
    "outputId": "79dd4da4-4cad-405f-fb32-dd248eb102ec"
   },
   "outputs": [
    {
     "name": "stdout",
     "output_type": "stream",
     "text": [
      "Model: \"sequential\"\n",
      "_________________________________________________________________\n",
      " Layer (type)                Output Shape              Param #   \n",
      "=================================================================\n",
      " embedding (Embedding)       (64, None, 256)           16640     \n",
      "                                                                 \n",
      " lstm (LSTM)                 (64, None, 1024)          5246976   \n",
      "                                                                 \n",
      " dense (Dense)               (64, None, 65)            66625     \n",
      "                                                                 \n",
      "=================================================================\n",
      "Total params: 5,330,241\n",
      "Trainable params: 5,330,241\n",
      "Non-trainable params: 0\n",
      "_________________________________________________________________\n"
     ]
    }
   ],
   "source": [
    "def build_model(vocab_size, embedding_dim, rnn_units, batch_size):\n",
    "  model = tf.keras.Sequential([\n",
    "    tf.keras.layers.Embedding(vocab_size, embedding_dim,\n",
    "                              batch_input_shape=[batch_size, None]),\n",
    "    tf.keras.layers.LSTM(rnn_units,\n",
    "                        return_sequences=True,\n",
    "                        stateful=True,\n",
    "                        recurrent_initializer='glorot_uniform'),\n",
    "    tf.keras.layers.Dense(vocab_size)\n",
    "  ])\n",
    "  return model\n",
    "\n",
    "model = build_model(VOCAB_SIZE,EMBEDDING_DIM, RNN_UNITS, BATCH_SIZE)\n",
    "model.summary()"
   ]
  },
  {
   "cell_type": "markdown",
   "metadata": {
    "id": "8gfnHBUOvPqE"
   },
   "source": [
    "### Creating Loss Function\n",
    "Create our loss function for the problem. The model will output a (64, sequence_length, 65) shaped tensor that represents the probability distribution of each character at each timestep for every sequence in the batch."
   ]
  },
  {
   "cell_type": "markdown",
   "metadata": {
    "id": "g_ERM4F15v_S"
   },
   "source": [
    "However, before we do that let's have a look at a sample input and the output from our untrained model. This is so we can understand what the model is giving us.\n",
    "\n"
   ]
  },
  {
   "cell_type": "code",
   "execution_count": null,
   "metadata": {
    "colab": {
     "base_uri": "https://localhost:8080/"
    },
    "id": "KdvEqlwc6_q0",
    "outputId": "23213ed4-1012-40a4-b24f-4b0318716082"
   },
   "outputs": [
    {
     "name": "stdout",
     "output_type": "stream",
     "text": [
      "(64, 100, 65) # (batch_size, sequence_length, vocab_size)\n"
     ]
    }
   ],
   "source": [
    "for input_example_batch, target_example_batch in data.take(1):\n",
    "  example_batch_predictions = model(input_example_batch)  # ask our model for a prediction on our first batch of training data (64 entries)\n",
    "  print(example_batch_predictions.shape, \"# (batch_size, sequence_length, vocab_size)\")  # print out the output shape"
   ]
  },
  {
   "cell_type": "code",
   "execution_count": null,
   "metadata": {
    "colab": {
     "base_uri": "https://localhost:8080/"
    },
    "id": "RQS5KXwi7_NX",
    "outputId": "3fedf71f-6c22-4764-c33d-9a7043d12e85"
   },
   "outputs": [
    {
     "name": "stdout",
     "output_type": "stream",
     "text": [
      "64\n",
      "tf.Tensor(\n",
      "[[[ 5.90070849e-04  1.45298510e-03  8.95539299e-03 ...  3.88986897e-04\n",
      "    1.79225416e-03  7.17221433e-03]\n",
      "  [-4.85264463e-03  3.49858403e-03  9.61992703e-03 ...  3.92884342e-03\n",
      "   -1.77465053e-03  7.18819909e-03]\n",
      "  [-2.74801999e-03  4.31347918e-03  1.13415741e-03 ...  1.55285764e-02\n",
      "   -1.69506459e-03  3.90203740e-03]\n",
      "  ...\n",
      "  [-8.81693698e-03  1.96716934e-03 -9.99123137e-03 ...  9.97600146e-03\n",
      "   -1.33429952e-02  4.04036371e-03]\n",
      "  [-7.37762591e-03  3.46151111e-03 -6.90134987e-03 ...  1.16449818e-02\n",
      "   -7.36044580e-03  3.53406440e-03]\n",
      "  [-5.75478189e-03  4.99309273e-03 -4.27727867e-03 ...  1.34483669e-02\n",
      "   -3.20540881e-03  3.59972427e-03]]\n",
      "\n",
      " [[ 2.28316546e-03  1.15239043e-02  4.59780218e-03 ... -9.13207419e-04\n",
      "    5.87319396e-03 -2.20199363e-04]\n",
      "  [-2.49909295e-04  1.62480325e-02 -2.37524952e-03 ...  5.76629769e-03\n",
      "    5.58166904e-03  7.80398585e-03]\n",
      "  [ 1.00615993e-03  1.33211296e-02 -7.17280339e-03 ...  1.63274892e-02\n",
      "    3.37955588e-03  5.02782781e-03]\n",
      "  ...\n",
      "  [ 9.33417701e-04 -2.42647668e-03 -1.56695433e-02 ...  1.71995554e-02\n",
      "   -6.72377599e-03 -6.47442508e-03]\n",
      "  [-2.06547207e-03 -5.62765775e-03 -1.59351397e-02 ...  1.70188174e-02\n",
      "   -5.81704080e-03 -8.14349111e-03]\n",
      "  [ 2.65464676e-03 -7.19396677e-03 -6.74722530e-03 ...  5.70735568e-03\n",
      "   -3.01337126e-03 -4.94690891e-03]]\n",
      "\n",
      " [[-5.38564345e-04  1.77613297e-03  8.69614421e-04 ...  2.00747373e-03\n",
      "    1.95099122e-03  1.77593168e-03]\n",
      "  [-1.40727102e-03  9.35174711e-03 -4.84366715e-03 ...  9.12474282e-03\n",
      "    3.20529100e-03  8.83225072e-03]\n",
      "  [ 1.97543320e-03  1.85142830e-02  5.22825983e-04 ...  6.74444623e-03\n",
      "    8.43704678e-03  6.67475257e-03]\n",
      "  ...\n",
      "  [-1.43633282e-04  1.28960274e-02 -1.82862929e-03 ... -3.11700767e-03\n",
      "    7.47672794e-03  1.21588744e-02]\n",
      "  [-3.06800543e-03  1.35241915e-02 -4.34662495e-03 ... -1.98515272e-03\n",
      "    3.41607258e-03  1.03831571e-02]\n",
      "  [-2.58015143e-03  1.29173351e-02 -2.87737092e-03 ...  4.62805852e-04\n",
      "    3.66586843e-03  9.08480678e-03]]\n",
      "\n",
      " ...\n",
      "\n",
      " [[-2.30697799e-03  2.17079604e-03 -3.32460226e-03 ... -2.26145727e-04\n",
      "    9.80740180e-04  1.36643369e-03]\n",
      "  [ 2.73267808e-03  2.68707052e-04 -4.59815422e-03 ...  5.36100660e-03\n",
      "    3.05632083e-03 -1.66956615e-03]\n",
      "  [ 8.36739084e-04 -2.70278356e-03  3.48643446e-03 ...  1.11417472e-02\n",
      "   -9.62274149e-04 -1.76995515e-03]\n",
      "  ...\n",
      "  [-1.12915668e-03 -3.32482159e-06 -1.56608678e-03 ...  5.75432554e-03\n",
      "   -3.52961477e-03  8.63638241e-03]\n",
      "  [ 1.72948174e-03 -5.07755857e-03 -4.55780281e-03 ...  1.29708257e-02\n",
      "   -9.46558488e-04  9.52307694e-03]\n",
      "  [-4.02981136e-03 -2.53555016e-03 -6.28797105e-04 ...  1.42379850e-02\n",
      "   -4.77741659e-03  1.02226660e-02]]\n",
      "\n",
      " [[ 5.40418737e-03 -1.08931703e-03 -2.63959123e-03 ...  5.14970161e-03\n",
      "    2.10931804e-03 -2.95536546e-03]\n",
      "  [ 8.05216655e-03  2.70231394e-03  2.40956200e-04 ... -4.92752437e-03\n",
      "    8.36785883e-03  3.88084259e-03]\n",
      "  [ 9.60668642e-03  5.33602480e-03  2.21182965e-03 ... -1.25718778e-02\n",
      "    1.24858040e-02  8.46484117e-03]\n",
      "  ...\n",
      "  [-2.81505752e-03  1.45550845e-02  1.58082531e-03 ...  2.19279379e-02\n",
      "   -2.35693716e-03  3.20451148e-03]\n",
      "  [-8.41772556e-03  1.28892558e-02  3.80716356e-03 ...  2.06553452e-02\n",
      "   -6.76938053e-03  4.71776584e-03]\n",
      "  [-5.27584925e-03  7.40111154e-03  2.32312572e-03 ...  1.76237784e-02\n",
      "   -1.17358221e-02  3.43904248e-03]]\n",
      "\n",
      " [[-3.15339514e-03  3.85646662e-03 -2.26457533e-03 ...  2.12609186e-04\n",
      "   -8.08754470e-04  1.36574404e-03]\n",
      "  [-3.49669904e-03  1.11246090e-02 -7.28802849e-03 ...  6.83243573e-03\n",
      "    1.75877265e-03  8.00928194e-03]\n",
      "  [-4.60365461e-03  5.68010565e-03 -9.92998481e-03 ...  8.95740185e-03\n",
      "    1.18611660e-03  3.86687601e-03]\n",
      "  ...\n",
      "  [-6.46570651e-03  8.69552325e-03  4.64298122e-04 ...  6.35947846e-03\n",
      "   -1.03787305e-02  7.78246205e-03]\n",
      "  [ 1.09781313e-03  5.83860185e-03 -2.37385044e-03 ...  1.00377873e-02\n",
      "   -5.02927881e-03  2.13576108e-03]\n",
      "  [ 6.76325336e-03  3.53201153e-03 -4.90460871e-03 ...  1.28681278e-02\n",
      "   -1.62437209e-03 -2.20931694e-03]]], shape=(64, 100, 65), dtype=float32)\n"
     ]
    }
   ],
   "source": [
    "# we can see that the predicition is an array of 64 arrays, one for each entry in the batch\n",
    "print(len(example_batch_predictions))\n",
    "print(example_batch_predictions)"
   ]
  },
  {
   "cell_type": "code",
   "execution_count": null,
   "metadata": {
    "colab": {
     "base_uri": "https://localhost:8080/"
    },
    "id": "sA1Zhop28V9n",
    "outputId": "3f47cd45-c6d9-47f3-c14c-6410f58bcbce"
   },
   "outputs": [
    {
     "name": "stdout",
     "output_type": "stream",
     "text": [
      "100\n",
      "tf.Tensor(\n",
      "[[ 0.00059007  0.00145299  0.00895539 ...  0.00038899  0.00179225\n",
      "   0.00717221]\n",
      " [-0.00485264  0.00349858  0.00961993 ...  0.00392884 -0.00177465\n",
      "   0.0071882 ]\n",
      " [-0.00274802  0.00431348  0.00113416 ...  0.01552858 -0.00169506\n",
      "   0.00390204]\n",
      " ...\n",
      " [-0.00881694  0.00196717 -0.00999123 ...  0.009976   -0.013343\n",
      "   0.00404036]\n",
      " [-0.00737763  0.00346151 -0.00690135 ...  0.01164498 -0.00736045\n",
      "   0.00353406]\n",
      " [-0.00575478  0.00499309 -0.00427728 ...  0.01344837 -0.00320541\n",
      "   0.00359972]], shape=(100, 65), dtype=float32)\n"
     ]
    }
   ],
   "source": [
    "# lets examine one prediction\n",
    "pred = example_batch_predictions[0]\n",
    "print(len(pred))\n",
    "print(pred)\n",
    "# notice this is a 2d array of length 100, where each interior array is the prediction for the next character at each time step"
   ]
  },
  {
   "cell_type": "code",
   "execution_count": null,
   "metadata": {
    "colab": {
     "base_uri": "https://localhost:8080/"
    },
    "id": "UbIoe7Ei8q3q",
    "outputId": "9953244b-bcc9-4d2b-9c9d-347bb19f833f"
   },
   "outputs": [
    {
     "name": "stdout",
     "output_type": "stream",
     "text": [
      "65\n",
      "tf.Tensor(\n",
      "[ 5.9007085e-04  1.4529851e-03  8.9553930e-03  3.7790635e-03\n",
      " -2.7456635e-03 -1.2415566e-03 -2.2686203e-03  3.0455019e-03\n",
      "  4.1467259e-03  2.9484534e-03 -3.8900308e-03  1.3582340e-03\n",
      " -2.4997832e-03  4.6997247e-03 -1.7394401e-03 -2.9325741e-03\n",
      "  3.1141504e-03  1.2567646e-03  5.2182213e-03  6.7870980e-03\n",
      "  2.2131857e-04  2.9783982e-03  1.8283050e-04 -3.2337109e-04\n",
      "  6.1952532e-04 -7.0371851e-04  1.2474926e-04  3.4127538e-03\n",
      " -1.8665316e-03  4.0747654e-03 -9.2380750e-04 -5.5821026e-03\n",
      " -8.9108484e-04 -3.2068046e-03 -4.6935165e-05 -5.7007056e-03\n",
      " -1.0777300e-03 -2.3713396e-03  7.6444040e-04 -2.3612354e-03\n",
      "  2.2780290e-04 -1.5234045e-03 -9.8974048e-04  3.0707736e-03\n",
      " -2.1567324e-03 -1.1377921e-04 -2.9534609e-03  1.4850575e-03\n",
      "  5.0620544e-03 -3.6494923e-04  3.1988067e-03 -4.9512601e-03\n",
      "  2.9751513e-04  2.1702601e-03  4.6173781e-03 -1.0768330e-03\n",
      " -1.5325806e-03 -4.4289050e-03  9.8253484e-05 -2.6558526e-05\n",
      " -5.6766565e-03  2.1778091e-04  3.8898690e-04  1.7922542e-03\n",
      "  7.1722143e-03], shape=(65,), dtype=float32)\n"
     ]
    }
   ],
   "source": [
    "# and finally well look at a prediction at the first timestep\n",
    "time_pred = pred[0]\n",
    "print(len(time_pred))\n",
    "print(time_pred)\n",
    "# and of course its 65 values representing the probabillity of each character occuring next"
   ]
  },
  {
   "cell_type": "code",
   "execution_count": null,
   "metadata": {
    "colab": {
     "base_uri": "https://localhost:8080/",
     "height": 36
    },
    "id": "qlEYM1H995gR",
    "outputId": "aa4cae39-6f43-4e2c-d421-36cf039d1640"
   },
   "outputs": [
    {
     "data": {
      "application/vnd.google.colaboratory.intrinsic+json": {
       "type": "string"
      },
      "text/plain": [
       "\"NNcXMl.QV3oKUJAiVHEf;HZC,\\nOmyfJDYf3kjqbuuQuzQ ;jNnwiwKQL\\n dnIWfxTms,Mo'H,;qy:MQtt!ZZaZWlWGSqeK!a,Dwp\""
      ]
     },
     "execution_count": 20,
     "metadata": {},
     "output_type": "execute_result"
    }
   ],
   "source": [
    "# If we want to determine the predicted character we need to sample the output distribution (pick a value based on probabillity)\n",
    "sampled_indices = tf.random.categorical(pred, num_samples=1)\n",
    "\n",
    "# now we can reshape that array and convert all the integers to numbers to see the actual characters\n",
    "sampled_indices = np.reshape(sampled_indices, (1, -1))[0]\n",
    "predicted_chars = int_to_text(sampled_indices)\n",
    "\n",
    "predicted_chars  # and this is what the model predicted for training sequence 1"
   ]
  },
  {
   "cell_type": "markdown",
   "metadata": {
    "id": "qcCBfPjN9Cnp"
   },
   "source": [
    "So now we need to create a loss function that can compare that output to the expected output and give us some numeric value representing how close the two were. "
   ]
  },
  {
   "cell_type": "code",
   "execution_count": null,
   "metadata": {
    "id": "ZOw23fWq9D9O"
   },
   "outputs": [],
   "source": [
    "def loss(labels, logits):\n",
    "  return tf.keras.losses.sparse_categorical_crossentropy(labels, logits, from_logits=True)"
   ]
  },
  {
   "cell_type": "markdown",
   "metadata": {
    "id": "kcg75GwXgW81"
   },
   "source": [
    "### Compiling the Model"
   ]
  },
  {
   "cell_type": "code",
   "execution_count": null,
   "metadata": {
    "id": "9g6o7zA_hAiS"
   },
   "outputs": [],
   "source": [
    "model.compile(optimizer='adam', loss=loss)"
   ]
  },
  {
   "cell_type": "markdown",
   "metadata": {
    "id": "YgDKr4yvjLPI"
   },
   "source": [
    "### Creating Checkpoints\n",
    "Setup and configure our model to save checkpoinst as it trains. This will allow to load our model from a checkpoint and continue training it."
   ]
  },
  {
   "cell_type": "code",
   "execution_count": null,
   "metadata": {
    "id": "v7aMushYjSpy"
   },
   "outputs": [],
   "source": [
    "# Directory where the checkpoints will be saved\n",
    "checkpoint_dir = './training_checkpoints'\n",
    "# Name of the checkpoint files\n",
    "checkpoint_prefix = os.path.join(checkpoint_dir, \"ckpt_{epoch}\")\n",
    "\n",
    "checkpoint_callback=tf.keras.callbacks.ModelCheckpoint(\n",
    "    filepath=checkpoint_prefix,\n",
    "    save_weights_only=True)"
   ]
  },
  {
   "cell_type": "markdown",
   "metadata": {
    "id": "0p7acPvGja5c"
   },
   "source": [
    "### Training the model. "
   ]
  },
  {
   "cell_type": "code",
   "execution_count": null,
   "metadata": {
    "colab": {
     "base_uri": "https://localhost:8080/"
    },
    "id": "R4PAgrwMjZ4_",
    "outputId": "db759a35-8667-467f-ae24-3cfda7b46cc6"
   },
   "outputs": [
    {
     "name": "stdout",
     "output_type": "stream",
     "text": [
      "Epoch 1/50\n",
      "172/172 [==============================] - 14s 63ms/step - loss: 2.6151\n",
      "Epoch 2/50\n",
      "172/172 [==============================] - 12s 63ms/step - loss: 1.8975\n",
      "Epoch 3/50\n",
      "172/172 [==============================] - 12s 63ms/step - loss: 1.6491\n",
      "Epoch 4/50\n",
      "172/172 [==============================] - 12s 64ms/step - loss: 1.5142\n",
      "Epoch 5/50\n",
      "172/172 [==============================] - 12s 65ms/step - loss: 1.4317\n",
      "Epoch 6/50\n",
      "172/172 [==============================] - 13s 66ms/step - loss: 1.3747\n",
      "Epoch 7/50\n",
      "172/172 [==============================] - 13s 67ms/step - loss: 1.3300\n",
      "Epoch 8/50\n",
      "172/172 [==============================] - 13s 67ms/step - loss: 1.2902\n",
      "Epoch 9/50\n",
      "172/172 [==============================] - 13s 68ms/step - loss: 1.2558\n",
      "Epoch 10/50\n",
      "172/172 [==============================] - 13s 68ms/step - loss: 1.2214\n",
      "Epoch 11/50\n",
      "172/172 [==============================] - 13s 69ms/step - loss: 1.1869\n",
      "Epoch 12/50\n",
      "172/172 [==============================] - 13s 71ms/step - loss: 1.1509\n",
      "Epoch 13/50\n",
      "172/172 [==============================] - 14s 73ms/step - loss: 1.1145\n",
      "Epoch 14/50\n",
      "172/172 [==============================] - 13s 70ms/step - loss: 1.0775\n",
      "Epoch 15/50\n",
      "172/172 [==============================] - 13s 71ms/step - loss: 1.0381\n",
      "Epoch 16/50\n",
      "172/172 [==============================] - 14s 72ms/step - loss: 0.9979\n",
      "Epoch 17/50\n",
      "172/172 [==============================] - 13s 71ms/step - loss: 0.9578\n",
      "Epoch 18/50\n",
      "172/172 [==============================] - 13s 71ms/step - loss: 0.9163\n",
      "Epoch 19/50\n",
      "172/172 [==============================] - 13s 71ms/step - loss: 0.8764\n",
      "Epoch 20/50\n",
      "172/172 [==============================] - 14s 72ms/step - loss: 0.8381\n",
      "Epoch 21/50\n",
      "172/172 [==============================] - 14s 72ms/step - loss: 0.8016\n",
      "Epoch 22/50\n",
      "172/172 [==============================] - 13s 70ms/step - loss: 0.7671\n",
      "Epoch 23/50\n",
      "172/172 [==============================] - 13s 71ms/step - loss: 0.7335\n",
      "Epoch 24/50\n",
      "172/172 [==============================] - 14s 72ms/step - loss: 0.7045\n",
      "Epoch 25/50\n",
      "172/172 [==============================] - 14s 72ms/step - loss: 0.6770\n",
      "Epoch 26/50\n",
      "172/172 [==============================] - 14s 72ms/step - loss: 0.6523\n",
      "Epoch 27/50\n",
      "172/172 [==============================] - 13s 71ms/step - loss: 0.6293\n",
      "Epoch 28/50\n",
      "172/172 [==============================] - 13s 69ms/step - loss: 0.6079\n",
      "Epoch 29/50\n",
      "172/172 [==============================] - 14s 71ms/step - loss: 0.5883\n",
      "Epoch 30/50\n",
      "172/172 [==============================] - 14s 73ms/step - loss: 0.5707\n",
      "Epoch 31/50\n",
      "172/172 [==============================] - 13s 71ms/step - loss: 0.5560\n",
      "Epoch 32/50\n",
      "172/172 [==============================] - 14s 71ms/step - loss: 0.5411\n",
      "Epoch 33/50\n",
      "172/172 [==============================] - 13s 70ms/step - loss: 0.5289\n",
      "Epoch 34/50\n",
      "172/172 [==============================] - 14s 72ms/step - loss: 0.5183\n",
      "Epoch 35/50\n",
      "172/172 [==============================] - 13s 71ms/step - loss: 0.5069\n",
      "Epoch 36/50\n",
      "172/172 [==============================] - 14s 72ms/step - loss: 0.4967\n",
      "Epoch 37/50\n",
      "172/172 [==============================] - 14s 72ms/step - loss: 0.4887\n",
      "Epoch 38/50\n",
      "172/172 [==============================] - 13s 70ms/step - loss: 0.4800\n",
      "Epoch 39/50\n",
      "172/172 [==============================] - 13s 71ms/step - loss: 0.4743\n",
      "Epoch 40/50\n",
      "172/172 [==============================] - 14s 72ms/step - loss: 0.4681\n",
      "Epoch 41/50\n",
      "172/172 [==============================] - 13s 71ms/step - loss: 0.4609\n",
      "Epoch 42/50\n",
      "172/172 [==============================] - 13s 70ms/step - loss: 0.4548\n",
      "Epoch 43/50\n",
      "172/172 [==============================] - 13s 69ms/step - loss: 0.4524\n",
      "Epoch 44/50\n",
      "172/172 [==============================] - 14s 72ms/step - loss: 0.4490\n",
      "Epoch 45/50\n",
      "172/172 [==============================] - 14s 73ms/step - loss: 0.4436\n",
      "Epoch 46/50\n",
      "172/172 [==============================] - 13s 71ms/step - loss: 0.4402\n",
      "Epoch 47/50\n",
      "172/172 [==============================] - 13s 69ms/step - loss: 0.4363\n",
      "Epoch 48/50\n",
      "172/172 [==============================] - 13s 71ms/step - loss: 0.4321\n",
      "Epoch 49/50\n",
      "172/172 [==============================] - 14s 73ms/step - loss: 0.4294\n",
      "Epoch 50/50\n",
      "172/172 [==============================] - 13s 70ms/step - loss: 0.4260\n"
     ]
    }
   ],
   "source": [
    "history = model.fit(data, epochs=50, callbacks=[checkpoint_callback])"
   ]
  },
  {
   "cell_type": "markdown",
   "metadata": {
    "id": "9GhoHJVtmTsz"
   },
   "source": [
    "### Loading the Model\n",
    "Rebuild the model from a checkpoint using a batch_size of 1 so that we can feed one peice of text to the model and have it make a prediction."
   ]
  },
  {
   "cell_type": "code",
   "execution_count": null,
   "metadata": {
    "id": "TPSto3uimSKp"
   },
   "outputs": [],
   "source": [
    "model = build_model(VOCAB_SIZE, EMBEDDING_DIM, RNN_UNITS, batch_size=1)"
   ]
  },
  {
   "cell_type": "markdown",
   "metadata": {
    "id": "boEJvy_vjLJQ"
   },
   "source": [
    "Once the model is finished training, we can find the **lastest checkpoint** that stores the models weights using the following line.\n",
    "\n"
   ]
  },
  {
   "cell_type": "code",
   "execution_count": null,
   "metadata": {
    "id": "PZIEZWE4mNKl"
   },
   "outputs": [],
   "source": [
    "model.load_weights(tf.train.latest_checkpoint(checkpoint_dir))\n",
    "model.build(tf.TensorShape([1, None]))"
   ]
  },
  {
   "cell_type": "markdown",
   "metadata": {
    "id": "CmPPtbaTKF8d"
   },
   "source": [
    "load **any checkpoint** we want by specifying the exact file to load."
   ]
  },
  {
   "cell_type": "code",
   "execution_count": null,
   "metadata": {
    "colab": {
     "base_uri": "https://localhost:8080/",
     "height": 328
    },
    "id": "YQ_5p0ehKFDn",
    "outputId": "7f66a261-4de1-495e-91b0-54f8c0828773"
   },
   "outputs": [
    {
     "ename": "AttributeError",
     "evalue": "ignored",
     "output_type": "error",
     "traceback": [
      "\u001b[0;31m---------------------------------------------------------------------------\u001b[0m",
      "\u001b[0;31mAttributeError\u001b[0m                            Traceback (most recent call last)",
      "\u001b[0;32m<ipython-input-27-97614ead033d>\u001b[0m in \u001b[0;36m<module>\u001b[0;34m()\u001b[0m\n\u001b[1;32m      1\u001b[0m \u001b[0mcheckpoint_num\u001b[0m \u001b[0;34m=\u001b[0m \u001b[0;36m10\u001b[0m\u001b[0;34m\u001b[0m\u001b[0;34m\u001b[0m\u001b[0m\n\u001b[0;32m----> 2\u001b[0;31m \u001b[0mmodel\u001b[0m\u001b[0;34m.\u001b[0m\u001b[0mload_weights\u001b[0m\u001b[0;34m(\u001b[0m\u001b[0mtf\u001b[0m\u001b[0;34m.\u001b[0m\u001b[0mtrain\u001b[0m\u001b[0;34m.\u001b[0m\u001b[0mload_checkpoint\u001b[0m\u001b[0;34m(\u001b[0m\u001b[0;34m\"./training_checkpoints/ckpt_\"\u001b[0m \u001b[0;34m+\u001b[0m \u001b[0mstr\u001b[0m\u001b[0;34m(\u001b[0m\u001b[0mcheckpoint_num\u001b[0m\u001b[0;34m)\u001b[0m\u001b[0;34m)\u001b[0m\u001b[0;34m)\u001b[0m\u001b[0;34m\u001b[0m\u001b[0;34m\u001b[0m\u001b[0m\n\u001b[0m\u001b[1;32m      3\u001b[0m \u001b[0mmodel\u001b[0m\u001b[0;34m.\u001b[0m\u001b[0mbuild\u001b[0m\u001b[0;34m(\u001b[0m\u001b[0mtf\u001b[0m\u001b[0;34m.\u001b[0m\u001b[0mTensorShape\u001b[0m\u001b[0;34m(\u001b[0m\u001b[0;34m[\u001b[0m\u001b[0;36m1\u001b[0m\u001b[0;34m,\u001b[0m \u001b[0;32mNone\u001b[0m\u001b[0;34m]\u001b[0m\u001b[0;34m)\u001b[0m\u001b[0;34m)\u001b[0m\u001b[0;34m\u001b[0m\u001b[0;34m\u001b[0m\u001b[0m\n",
      "\u001b[0;32m/usr/local/lib/python3.7/dist-packages/keras/utils/traceback_utils.py\u001b[0m in \u001b[0;36merror_handler\u001b[0;34m(*args, **kwargs)\u001b[0m\n\u001b[1;32m     65\u001b[0m     \u001b[0;32mexcept\u001b[0m \u001b[0mException\u001b[0m \u001b[0;32mas\u001b[0m \u001b[0me\u001b[0m\u001b[0;34m:\u001b[0m  \u001b[0;31m# pylint: disable=broad-except\u001b[0m\u001b[0;34m\u001b[0m\u001b[0;34m\u001b[0m\u001b[0m\n\u001b[1;32m     66\u001b[0m       \u001b[0mfiltered_tb\u001b[0m \u001b[0;34m=\u001b[0m \u001b[0m_process_traceback_frames\u001b[0m\u001b[0;34m(\u001b[0m\u001b[0me\u001b[0m\u001b[0;34m.\u001b[0m\u001b[0m__traceback__\u001b[0m\u001b[0;34m)\u001b[0m\u001b[0;34m\u001b[0m\u001b[0;34m\u001b[0m\u001b[0m\n\u001b[0;32m---> 67\u001b[0;31m       \u001b[0;32mraise\u001b[0m \u001b[0me\u001b[0m\u001b[0;34m.\u001b[0m\u001b[0mwith_traceback\u001b[0m\u001b[0;34m(\u001b[0m\u001b[0mfiltered_tb\u001b[0m\u001b[0;34m)\u001b[0m \u001b[0;32mfrom\u001b[0m \u001b[0;32mNone\u001b[0m\u001b[0;34m\u001b[0m\u001b[0;34m\u001b[0m\u001b[0m\n\u001b[0m\u001b[1;32m     68\u001b[0m     \u001b[0;32mfinally\u001b[0m\u001b[0;34m:\u001b[0m\u001b[0;34m\u001b[0m\u001b[0;34m\u001b[0m\u001b[0m\n\u001b[1;32m     69\u001b[0m       \u001b[0;32mdel\u001b[0m \u001b[0mfiltered_tb\u001b[0m\u001b[0;34m\u001b[0m\u001b[0;34m\u001b[0m\u001b[0m\n",
      "\u001b[0;32m/usr/local/lib/python3.7/dist-packages/keras/saving/saving_utils.py\u001b[0m in \u001b[0;36mis_hdf5_filepath\u001b[0;34m(filepath)\u001b[0m\n\u001b[1;32m    333\u001b[0m \u001b[0;34m\u001b[0m\u001b[0m\n\u001b[1;32m    334\u001b[0m \u001b[0;32mdef\u001b[0m \u001b[0mis_hdf5_filepath\u001b[0m\u001b[0;34m(\u001b[0m\u001b[0mfilepath\u001b[0m\u001b[0;34m)\u001b[0m\u001b[0;34m:\u001b[0m\u001b[0;34m\u001b[0m\u001b[0;34m\u001b[0m\u001b[0m\n\u001b[0;32m--> 335\u001b[0;31m   return (filepath.endswith('.h5') or filepath.endswith('.keras') or\n\u001b[0m\u001b[1;32m    336\u001b[0m           filepath.endswith('.hdf5'))\n",
      "\u001b[0;31mAttributeError\u001b[0m: 'tensorflow.python.util._pywrap_checkpoint_reader.C' object has no attribute 'endswith'"
     ]
    }
   ],
   "source": [
    "checkpoint_num = 10\n",
    "model.load_weights(tf.train.load_checkpoint(\"./training_checkpoints/ckpt_\" + str(checkpoint_num)))\n",
    "model.build(tf.TensorShape([1, None]))"
   ]
  },
  {
   "cell_type": "markdown",
   "metadata": {
    "id": "KaZWalEeAxQN"
   },
   "source": [
    "### Generating Text\n",
    "Now we can use the lovely function provided by tensorflow to generate some text using any starting string we'd like."
   ]
  },
  {
   "cell_type": "code",
   "execution_count": null,
   "metadata": {
    "id": "oPSALdQXA3l3"
   },
   "outputs": [],
   "source": [
    "def generate_text(model, start_string):\n",
    "  # Evaluation step (generating text using the learned model)\n",
    "\n",
    "  # Number of characters to generate\n",
    "  num_generate = 800\n",
    "\n",
    "  # Converting our start string to numbers (vectorizing)\n",
    "  input_eval = [char2idx[s] for s in start_string]\n",
    "  input_eval = tf.expand_dims(input_eval, 0)\n",
    "\n",
    "  # Empty string to store our results\n",
    "  text_generated = []\n",
    "\n",
    "  # Low temperatures results in more predictable text.\n",
    "  # Higher temperatures results in more surprising text.\n",
    "  # Experiment to find the best setting.\n",
    "  temperature = 1.0\n",
    "\n",
    "  # Here batch size == 1\n",
    "  model.reset_states()\n",
    "  for i in range(num_generate):\n",
    "      predictions = model(input_eval)\n",
    "      # remove the batch dimension\n",
    "    \n",
    "      predictions = tf.squeeze(predictions, 0)\n",
    "\n",
    "      # using a categorical distribution to predict the character returned by the model\n",
    "      predictions = predictions / temperature\n",
    "      predicted_id = tf.random.categorical(predictions, num_samples=1)[-1,0].numpy()\n",
    "\n",
    "      # We pass the predicted character as the next input to the model\n",
    "      # along with the previous hidden state\n",
    "      input_eval = tf.expand_dims([predicted_id], 0)\n",
    "\n",
    "      text_generated.append(idx2char[predicted_id])\n",
    "\n",
    "  return (start_string + ''.join(text_generated))"
   ]
  },
  {
   "cell_type": "code",
   "execution_count": null,
   "metadata": {
    "colab": {
     "base_uri": "https://localhost:8080/"
    },
    "id": "cAJqhD9AA5mF",
    "outputId": "61323b83-a897-4b11-f842-42544422e47f"
   },
   "outputs": [
    {
     "name": "stdout",
     "output_type": "stream",
     "text": [
      "Type a starting string: let me try\n",
      "let me try.\n",
      "\n",
      "KING RICHARD III:\n",
      "Harp not on that?\n",
      "\n",
      "LADY CAPULET:\n",
      "We shall be shorten'd in a happy torns:\n",
      "Ah, God defend the gods, black-past, let them not.\n",
      "\n",
      "EXETER:\n",
      "This way the friar of dark commends them thence,\n",
      "So sluck him deadly to my brother too,\n",
      "Nor much for love with no less to besiege us.\n",
      "\n",
      "First Murderer:\n",
      "How came your king unbrothers' bosoms!\n",
      "\n",
      "WARWICK:\n",
      "Tell her a-to consider in this wide,\n",
      "How is it more, withal where the other sleith.\n",
      "\n",
      "DUKE VINCENTIO:\n",
      "Could you not have it you.\n",
      "\n",
      "STANLEY:\n",
      "My lord, in Yorkshire are in safety through the man\n",
      "As hazer mercy as hast forswear him, ne'er\n",
      "Till Richard Stanley did remembere his majesty\n",
      "To save this birth deliver degrees withal\n",
      "Kings and power i' the freedom of my knield sight!\n",
      "For shaming comely face to follow him,\n",
      "As he hath followed you, with an h\n"
     ]
    }
   ],
   "source": [
    "inp = input(\"Type a starting string: \")\n",
    "print(generate_text(model, inp))"
   ]
  }
 ],
 "metadata": {
  "accelerator": "GPU",
  "colab": {
   "collapsed_sections": [],
   "name": "NLP with RNNs .ipynb",
   "provenance": []
  },
  "kernelspec": {
   "display_name": "Python 3",
   "language": "python",
   "name": "python3"
  },
  "language_info": {
   "codemirror_mode": {
    "name": "ipython",
    "version": 3
   },
   "file_extension": ".py",
   "mimetype": "text/x-python",
   "name": "python",
   "nbconvert_exporter": "python",
   "pygments_lexer": "ipython3",
   "version": "3.6.13"
  }
 },
 "nbformat": 4,
 "nbformat_minor": 1
}
